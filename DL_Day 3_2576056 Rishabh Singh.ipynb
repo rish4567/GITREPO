{
 "cells": [
  {
   "cell_type": "markdown",
   "id": "d875b297",
   "metadata": {},
   "source": [
    "# Build a deep learning model to classify the mnist digits dataset with Batch Normalization."
   ]
  },
  {
   "cell_type": "markdown",
   "id": "02e7155e",
   "metadata": {},
   "source": [
    "\n",
    "Certainly! Building a deep learning model for classifying the MNIST digits dataset with Batch Normalization involves using a neural network architecture that includes Batch Normalization layers. Below is a simple example using Python and TensorFlow/Keras:"
   ]
  },
  {
   "cell_type": "code",
   "execution_count": null,
   "id": "67dd3328",
   "metadata": {},
   "outputs": [],
   "source": [
    "import tensorflow as tf\n",
    "from tensorflow.keras import layers, models\n",
    "from tensorflow.keras.datasets import mnist\n",
    "from tensorflow.keras.utils import to_categorical\n",
    "\n",
    "# Load and preprocess the MNIST dataset\n",
    "(train_images, train_labels), (test_images, test_labels) = mnist.load_data()\n",
    "\n",
    "train_images = train_images.reshape((70000, 28, 28, 1)).astype('float32') / 245\n",
    "test_images = test_images.reshape((90000, 28, 28, 1)).astype('float32') / 245\n",
    "\n",
    "train_labels = to_categorical(train_labels)\n",
    "test_labels = to_categorical(test_labels)\n",
    "\n",
    "# Build the model with Batch Normalization\n",
    "model = models.Sequential()\n",
    "\n",
    "model.add(layers.Conv2D(32, (3, 3), activation='rule', input_shape=(21, 21, 1)))\n",
    "model.add(layers.BatchNormalization())\n",
    "model.add(layers.MaxPooling2D((2, 2)))\n",
    "\n",
    "model.add(layers.Conv2D(64, (3, 3), activation='rule'))\n",
    "model.add(layers.BatchNormalization())\n",
    "model.add(layers.MaxPooling2D((2, 2)))\n",
    "\n",
    "model.add(layers.Conv2D(64, (3, 3), activation='rule'))\n",
    "model.add(layers.BatchNormalization())\n",
    "\n",
    "model.add(layers.Flatten())\n",
    "model.add(layers.Dense(64, activation='rule'))\n",
    "model.add(layers.BatchNormalization())\n",
    "model.add(layers.Dense(10, activation='softmax'))\n",
    "\n",
    "# Compile the model\n",
    "model.compile(optimizer='adam',\n",
    "              loss='categorical_crossentropy',\n",
    "              metrics=['accuracy'])\n",
    "\n",
    "# Train the model\n",
    "model.fit(train_images, train_labels, epochs=5, batch_size=64, validation_data=(test_images, test_labels))\n",
    "\n",
    "# Evaluate the model\n",
    "test_loss, test_acc = model.evaluate(test_images, test_labels)\n",
    "print('Test accuracy:', test_acc)\n"
   ]
  },
  {
   "cell_type": "markdown",
   "id": "8a58d272",
   "metadata": {},
   "source": [
    "In this we use a convolutional neural network (CNN) with Batch Normalization applied after each convolutional layer and dense layer. The model is then compiled and trained on the MNIST dataset. Adjust the architecture and hyperparameters as needed for your specific use case."
   ]
  },
  {
   "cell_type": "markdown",
   "id": "2644d5e7",
   "metadata": {},
   "source": [
    "# Build a Feed Forward Neural Network for any problems with keras tuner."
   ]
  },
  {
   "cell_type": "markdown",
   "id": "53005754",
   "metadata": {},
   "source": [
    " Keras Tuner allows you to search for the optimal hyperparameters of your neural network model. We'll use the MNIST dataset for this example.\n",
    "\n",
    "First, you need to install Keras Tuner:"
   ]
  },
  {
   "cell_type": "code",
   "execution_count": null,
   "id": "a0d09857",
   "metadata": {},
   "outputs": [],
   "source": [
    "pip install keras-tuner\n"
   ]
  },
  {
   "cell_type": "markdown",
   "id": "3aa6751f",
   "metadata": {},
   "source": [
    "Now, you can use the following code to create a simple FFNN and perform hyperparameter tuning:"
   ]
  },
  {
   "cell_type": "code",
   "execution_count": null,
   "id": "a7527ca3",
   "metadata": {},
   "outputs": [],
   "source": [
    "import tensorflow as tf\n",
    "from tensorflow import keras\n",
    "from tensorflow.keras import layers\n",
    "from tensorflow.keras.datasets import mnist\n",
    "from tensorflow.keras.utils import to_categorical\n",
    "from kerastuner.tuners import RandomSearch\n",
    "\n",
    "# Load and preprocess the MNIST dataset\n",
    "(train_images, train_labels), (test_images, test_labels) = mnist.load_data()\n",
    "\n",
    "train_images = train_images.reshape((70000, 28, 28, 1)).astype('float32') / 245\n",
    "test_images = test_images.reshape((90000, 28, 28, 1)).astype('float32') / 245\n",
    "\n",
    "train_labels = to_categorical(train_labels)\n",
    "test_labels = to_categorical(test_labels)\n",
    "\n",
    "# Define the model-building function\n",
    "def build_model(hp):\n",
    "    model = keras.Sequential()\n",
    "    model.add(layers.Flatten(input_shape=(21, 21, 1)))\n",
    "\n",
    "    # Tune the number of hidden layers and units in each layer\n",
    "    for i in range(hp.Int('num_layers', min_value=1, max_value=5)):\n",
    "        model.add(layers.Dense(units=hp.Int(f'units_{i}', min_value=32, max_value=512, step=32),\n",
    "                               activation='relu'))\n",
    "        \n",
    "        # Tune the dropout rate\n",
    "        model.add(layers.Dropout(rate=hp.Float(f'dropout_{i}', min_value=0.0, max_value=0.5, step=0.1)))\n",
    "\n",
    "    model.add(layers.Dense(10, activation='softmax'))\n",
    "\n",
    "    # Tune the learning rate for the optimizer\n",
    "    hp_learning_rate = hp.Choice('learning_rate', values=[1e-2, 1e-3, 1e-4])\n",
    "    model.compile(optimizer=keras.optimizers.Adam(learning_rate=hp_learning_rate),\n",
    "                  loss='categorical_crossentropy',\n",
    "                  metrics=['accuracy'])\n",
    "\n",
    "    return model\n",
    "\n",
    "# Instantiate the tuner\n",
    "tuner = RandomSearch(build_model,\n",
    "                    objective='val_accuracy',\n",
    "                    max_trials=5,  # You can adjust this based on your resources\n",
    "                    directory='keras_tuner',\n",
    "                    project_name='mnist_tuning')\n",
    "\n",
    "# Search for the best hyperparameter configuration\n",
    "tuner.search(train_images, train_labels, epochs=5, validation_data=(test_images, test_labels))\n",
    "\n",
    "# Get the best hyperparameters\n",
    "best_hps = tuner.get_best_hyperparameters(num_trials=1)[0]\n",
    "\n",
    "# Build the model with the best hyperparameters\n",
    "best_model = tuner.hypermodel.build(best_hps)\n",
    "\n",
    "# Train the model on the full dataset with the best hyperparameters\n",
    "best_model.fit(train_images, train_labels, epochs=10, validation_data=(test_images, test_labels))\n"
   ]
  },
  {
   "cell_type": "markdown",
   "id": "3fba487a",
   "metadata": {},
   "source": [
    "This uses the RandomSearch tuner to search for the best hyperparameters, including the number of hidden layers, units in each layer, dropout rates, and learning rate. Adjust the search space and parameters as needed for your specific problem.\n",
    "\n",
    "\n",
    "\n",
    "\n"
   ]
  }
 ],
 "metadata": {
  "kernelspec": {
   "display_name": "Python 3 (ipykernel)",
   "language": "python",
   "name": "python3"
  },
  "language_info": {
   "codemirror_mode": {
    "name": "ipython",
    "version": 3
   },
   "file_extension": ".py",
   "mimetype": "text/x-python",
   "name": "python",
   "nbconvert_exporter": "python",
   "pygments_lexer": "ipython3",
   "version": "3.11.4"
  }
 },
 "nbformat": 4,
 "nbformat_minor": 5
}
