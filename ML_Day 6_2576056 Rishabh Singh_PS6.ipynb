{
 "cells": [
  {
   "cell_type": "markdown",
   "id": "d8afb02b",
   "metadata": {},
   "source": [
    "# 1. Develop a credit risk assessment Classification model with Support Vector Machines using both linear and non-linear kernels and evaluate their performance.\n",
    "\n",
    "# 2. Develop an image classification model with SVC\n",
    "\n",
    "# 3. Build a Regression model with SVR\n",
    "\n"
   ]
  },
  {
   "cell_type": "markdown",
   "id": "e91f7a60",
   "metadata": {},
   "source": [
    "# You work for a financial institution, and your task is to develop a credit risk assessment model using Support Vector Machines (SVM). The dataset contains information about applicants' financial history, personal detalls, and credit risk outcomes (eg, good or bad credit). Your goal is to build classification models with both linear and non-linear kernels and evaluate their performance. Answer the following questions based on this case study:"
   ]
  },
  {
   "cell_type": "markdown",
   "id": "9b90b5e4",
   "metadata": {},
   "source": [
    "# 1. Data Exploration:\n",
    "\n",
    "a. Load the credit risk dataset using Python libraries like pandas and explore its structure. Describe the features, target variable, and data distribution.\n",
    "\n",
    "b. Discuss the importance of credit risk assessment in the financial industry.\n"
   ]
  },
  {
   "cell_type": "code",
   "execution_count": null,
   "id": "49c22e34",
   "metadata": {},
   "outputs": [],
   "source": [
    "import pandas as pd\n",
    "data = pd.read_csv(\"credit_risk_data.csv\")\n",
    "print(data.head())\n",
    "print(data.shape)\n",
    "print(data.info())\n",
    "print(data.describe())\n",
    "print(data['credit_outcome'].value_counts())\n"
   ]
  },
  {
   "cell_type": "markdown",
   "id": "6889d33b",
   "metadata": {},
   "source": [
    "b. Importance of Credit Risk Assessment in the Financial Industry:\n",
    "\n",
    "Credit risk assessment is a crucial aspect of the financial industry for several reasons:\n",
    "\n",
    "Risk Management: Credit risk assessment helps financial institutions, such as banks and lenders, manage their exposure to potential losses. By evaluating the creditworthiness of borrowers, they can make informed decisions on lending or investing in different financial products.\n",
    "\n",
    "Profitability: Accurate credit risk assessment ensures that loans are extended to borrowers who are more likely to repay, thus increasing the profitability of financial institutions. It helps in maintaining a healthy loan portfolio with lower default rates.\n",
    "\n",
    "Regulatory Compliance: Financial institutions are often subject to regulations that require them to assess and manage credit risk. Compliance with these regulations is essential to avoid penalties and maintain the institution's reputation.\n",
    "\n",
    "Capital Allocation: Credit risk assessment influences the amount of capital that financial institutions need to set aside to cover potential losses from loans. Efficient risk assessment can optimize capital allocation and improve overall financial health.\n",
    "\n",
    "Consumer Protection: Proper credit risk assessment helps protect consumers by ensuring they receive loans they can reasonably afford to repay. This reduces the risk of borrowers falling into unsustainable debt.\n",
    "\n",
    "Investor Confidence: Accurate credit risk assessment enhances investor confidence, as it demonstrates that the financial institution is making prudent lending decisions. This can attract more investors and lower the cost of capital for the institution."
   ]
  },
  {
   "cell_type": "markdown",
   "id": "f10735de",
   "metadata": {},
   "source": [
    "# 2. Classification with Linear SVM:\n",
    "\n",
    "a. Implement a linear SVM classifier using Python libraries like scikit-learn to predict credit risk based on applicant Information.\n",
    "\n",
    "b. Split the dataset into training and testing sets, and train the linear SVM model.\n",
    "\n",
    "c. Evaluate the linear SVM model's performance using metrics such as accuracy, precision, recall and F1-score.\n"
   ]
  },
  {
   "cell_type": "code",
   "execution_count": null,
   "id": "07a4b3f2",
   "metadata": {},
   "outputs": [],
   "source": [
    "import pandas as pd\n",
    "from sklearn.model_selection import train_test_split\n",
    "from sklearn.svm import SVC\n",
    "from sklearn.metrics import accuracy_score, precision_score, recall_score, f1_score\n",
    "X = data.drop('credit_outcome', axis=1)  \n",
    "y = data['credit_outcome']\n",
    "X_train, X_test, y_train, y_test = train_test_split(X, y, test_size=0.2, random_state=42)\n",
    "linear_svm = SVC(kernel='linear')\n",
    "linear_svm.fit(X_train, y_train)\n",
    "y_pred = linear_svm.predict(X_test)\n",
    "accuracy = accuracy_score(y_test, y_pred)\n",
    "precision = precision_score(y_test, y_pred)\n",
    "recall = recall_score(y_test, y_pred)\n",
    "f1 = f1_score(y_test, y_pred)\n",
    "print(f\"Accuracy: {accuracy:.2f}\")\n",
    "print(f\"Precision: {precision:.2f}\")\n",
    "print(f\"Recall: {recall:.2f}\")\n",
    "print(f\"F1-Score: {f1:.2f}\")\n"
   ]
  },
  {
   "cell_type": "markdown",
   "id": "b56d2fb3",
   "metadata": {},
   "source": [
    "# 3. Classification with Non-linear SVM:\n",
    "\n",
    "a. Implement a non-linear SVM classifier using Python libraries, applying a kernel (e.g., Radial Basis Function or Polynomial kernel) to predict credit risk.\n",
    "\n",
    "b. Split the dataset into training and testing sets, and train the non-linear SVM model.\n",
    "\n",
    "c. Discuss the need for non-linear SVM and the choice of kernel.\n",
    "\n",
    "d. Evaluate the non-linear SVM model's performance using classification metrics."
   ]
  },
  {
   "cell_type": "code",
   "execution_count": null,
   "id": "730d34d6",
   "metadata": {},
   "outputs": [],
   "source": [
    "from sklearn.svm import SVC\n",
    "non_linear_svm = SVC(kernel='rbf')\n",
    "non_linear_svm.fit(X_train, y_train) \n",
    "y_pred_non_linear = non_linear_svm.predict(X_test)\n"
   ]
  },
  {
   "cell_type": "markdown",
   "id": "8b0feb94",
   "metadata": {},
   "source": [
    "b. Training the Non-linear SVM Model:\n",
    "\n",
    "We use the RBF kernel in this example, which is a popular choice for handling non-linear classification problems. It is suitable when the decision boundary is complex and not easily separable by a straight line."
   ]
  },
  {
   "cell_type": "markdown",
   "id": "ad3638db",
   "metadata": {},
   "source": [
    "c. Need for Non-linear SVM and Choice of Kernel:\n",
    "\n",
    "The need for non-linear SVM arises when the relationship between features and the target variable is not linear. In the context of credit risk assessment, applicants' financial and personal details may not follow a linear pattern for classifying good and bad credit. For example, the interplay of various factors like income, credit history, age, and more can result in complex, non-linear decision boundaries."
   ]
  },
  {
   "cell_type": "code",
   "execution_count": null,
   "id": "76f66644",
   "metadata": {},
   "outputs": [],
   "source": [
    "from sklearn.metrics import accuracy_score, precision_score, recall_score, f1_score\n",
    "\n",
    "accuracy_non_linear = accuracy_score(y_test, y_pred_non_linear)\n",
    "precision_non_linear = precision_score(y_test, y_pred_non_linear)\n",
    "recall_non_linear = recall_score(y_test, y_pred_non_linear)\n",
    "f1_non_linear = f1_score(y_test, y_pred_non_linear)\n",
    "\n",
    "# Print the evaluation metrics for the non-linear SVM model\n",
    "print(f\"Non-Linear SVM - RBF Kernel:\")\n",
    "print(f\"Accuracy: {accuracy_non_linear:.2f}\")\n",
    "print(f\"Precision: {precision_non_linear:.2f}\")\n",
    "print(f\"Recall: {recall_non_linear:.2f}\")\n",
    "print(f\"F1-Score: {f1_non_linear:.2f}\")\n"
   ]
  },
  {
   "cell_type": "markdown",
   "id": "31d34e66",
   "metadata": {},
   "source": [
    "# 4. Hyperparameter Tuning:\n",
    "\n",
    "a. Explain the role of hyperparameters in SVM models and suggest potential hyperparameters to optimize.\n",
    "\n",
    "b. Conduct hyperparameter tuning for both the linear and non-linear SVM models and discuss the impact of different parameter values.\n"
   ]
  },
  {
   "cell_type": "markdown",
   "id": "a009224c",
   "metadata": {},
   "source": [
    "a. Role of Hyperparameters in SVM Models and Potential Hyperparameters:\n",
    "\n",
    "Hyperparameters are essential settings in SVM models that affect the model's behavior and performance. They are not learned from the data but must be set prior to model training. Hyperparameter tuning involves finding the optimal values for these settings to maximize the model's predictive accuracy and generalization.\n",
    "\n",
    "Here are some key hyperparameters for SVM models:\n",
    "\n",
    "Kernel Type: In non-linear SVMs, the choice of kernel (e.g., linear, RBF, polynomial, sigmoid) is a critical hyperparameter that determines how the data is transformed to handle non-linearity.\n",
    "\n",
    "Regularization Parameter (C): The C parameter controls the trade-off between maximizing the margin and minimizing the classification error. Smaller values of C lead to a larger margin but might misclassify some training points, while larger values of C reduce the margin but minimize misclassifications. It's important to find the right balance for your specific problem.\n",
    "\n",
    "Kernel-specific Parameters: Different kernels may have additional parameters that need tuning. For example, the RBF kernel has a gamma parameter, and the polynomial kernel has a degree parameter. These control the shape and flexibility of the decision boundary.\n",
    "\n",
    "Class Weights: SVM models can handle imbalanced datasets by assigning different weights to different classes. You might need to tune the class weight hyperparameters to address class imbalances."
   ]
  },
  {
   "cell_type": "markdown",
   "id": "992ed1c6",
   "metadata": {},
   "source": [
    "b. Hyperparameter Tuning for Linear and Non-linear SVM Models:\n",
    "\n",
    "To conduct hyperparameter tuning for both linear and non-linear SVM models, you can use techniques like grid search or random search. Here's a general outline of the process:\n",
    "\n",
    "Grid Search: Grid search involves specifying a range of values for each hyperparameter and testing all possible combinations. It's a systematic way to explore the hyperparameter space.\n",
    "\n",
    "Random Search: Random search selects random combinations of hyperparameter values to evaluate. It can be more efficient than grid search and might find good solutions faster.\n",
    "\n",
    "For the linear SVM model, you can tune the following hyperparameters:\n",
    "\n",
    "Regularization parameter C\n",
    "Class weights if the dataset is imbalanced\n",
    "For the non-linear SVM model (RBF kernel), in addition to the C parameter, you should tune:\n",
    "\n",
    "Gamma parameter (controls the shape of the RBF kernel)\n",
    "The impact of different parameter values can vary based on the specific dataset and problem. Here are some general observations:\n",
    "\n",
    "A smaller C value for the linear SVM will result in a wider margin and may lead to underfitting, while a larger C value will create a narrower margin and may lead to overfitting.\n",
    "\n",
    "In the non-linear SVM with RBF kernel, a smaller gamma value will lead to a smoother decision boundary and may underfit the data. A larger gamma value will make the decision boundary more complex and may overfit the data.\n",
    "\n",
    "Adjusting class weights can be crucial when dealing with imbalanced datasets. Higher weights for the minority class can help the model focus more on correctly classifying the minority class."
   ]
  },
  {
   "cell_type": "markdown",
   "id": "ef74252a",
   "metadata": {},
   "source": [
    "# 5. Decision Boundary Visualization:\n",
    "\n",
    "a. Visualize the decision boundaries of both the linear and non-linear SVM models. Discuss the differences in decision boundaries for linear and non-linear SVMs.\n",
    "\n"
   ]
  },
  {
   "cell_type": "code",
   "execution_count": null,
   "id": "087a7587",
   "metadata": {},
   "outputs": [],
   "source": [
    "import numpy as np\n",
    "import matplotlib.pyplot as plt\n",
    "feature_1 = 'feature_name_1'  \n",
    "feature_2 = 'feature_name_2'\n",
    "x_min, x_max = X[feature_1].min() - 1, X[feature_1].max() + 1\n",
    "y_min, y_max = X[feature_2].min() - 1, X[feature_2].max() + 1\n",
    "xx, yy = np.meshgrid(np.arange(x_min, x_max, 0.01), np.arange(y_min, y_max, 0.01))\n",
    "titles = [\"Linear SVM\", \"Non-linear SVM (RBF Kernel)\"]\n",
    "classifiers = [linear_svm, non_linear_svm]\n",
    "plt.figure(figsize=(12, 5))\n",
    "for i, clf in enumerate(classifiers):\n",
    "    plt.subplot(1, 2, i + 1)\n",
    "    plt.subplots_adjust(wspace=0.4, hspace=0.4)\n",
    "    Z = clf.predict(np.c_[xx.ravel(), yy.ravel()])\n",
    "    Z = Z.reshape(xx.shape)\n",
    "    plt.contourf(xx, yy, Z, cmap=plt.cm.coolwarm, alpha=0.8)\n",
    "    plt.scatter(X[feature_1], X[feature_2], c=y, cmap=plt.cm.coolwarm)\n",
    "    plt.xlabel(feature_1)\n",
    "    plt.ylabel(feature_2)\n",
    "    plt.xlim(xx.min(), xx.max())\n",
    "    plt.ylim(yy.min(), yy.max())\n",
    "    plt.xticks(())\n",
    "    plt.yticks(())\n",
    "    plt.title(titles[i])\n",
    "\n",
    "plt.show()\n"
   ]
  },
  {
   "cell_type": "markdown",
   "id": "4044f73a",
   "metadata": {},
   "source": [
    "# 6. Support Vectors:\n",
    "\n",
    "a. Explain the concept of support vectors and their significance in SVM models.\n",
    "\n",
    "b. Calculate the support vectors for both the linear and non-linear SVM models.\n",
    "\n"
   ]
  },
  {
   "cell_type": "markdown",
   "id": "61ac6ead",
   "metadata": {},
   "source": [
    "a. Concept of Support Vectors and Their Significance in SVM Models:\n",
    "\n",
    "Support vectors are data points from the training dataset that are crucial in defining the decision boundary (hyperplane) of an SVM model. They are the data points that are closest to the decision boundary and influence the placement and orientation of the boundary.\n",
    "\n",
    "Significance of Support Vectors in SVM Models:\n",
    "\n",
    "Defining the Margin: Support vectors determine the margin of the hyperplane, which is the distance between the hyperplane and the nearest data points of both classes. Maximizing this margin is a key objective in SVM, and support vectors are the data points that are exactly at this margin.\n",
    "\n",
    "Robustness and Generalization: SVM models are designed to be robust and generalize well. By focusing on the support vectors, which are the most critical data points for classification, SVMs can generalize effectively to unseen data while ignoring the less influential data points.\n",
    "\n",
    "Model Simplicity: Support vectors play a role in simplifying the model. The SVM decision boundary is determined by a relatively small number of support vectors, even if the original dataset is large. This can make the model computationally efficient and reduce the risk of overfitting.\n",
    "\n",
    "Handling Outliers: Support vectors are often outliers or data points close to the boundary. SVM models can be robust to outliers, as they are only influenced by the few support vectors that are essential for the decision boundary."
   ]
  },
  {
   "cell_type": "code",
   "execution_count": null,
   "id": "7cbb3202",
   "metadata": {},
   "outputs": [],
   "source": [
    "# For the Linear SVM\n",
    "support_vectors_linear = linear_svm.support_vectors_\n",
    "\n",
    "# For the Non-linear SVM with RBF Kernel\n",
    "support_vectors_non_linear = non_linear_svm.support_vectors_\n"
   ]
  },
  {
   "cell_type": "markdown",
   "id": "144364b5",
   "metadata": {},
   "source": [
    "The support_vectors_ attribute contains the support vectors for the respective models. You can access these support vectors after fitting the SVM models. These support vectors are the data points closest to the decision boundary and are used to define and characterize the decision boundary of the SVM model."
   ]
  },
  {
   "cell_type": "markdown",
   "id": "20850628",
   "metadata": {},
   "source": [
    "# 7. Model Comparison:\n",
    "\n",
    "a. Compare the performance of the linear and non-linear SVM models in credit risk assessment.\n",
    "\n",
    "b. Discuss the trade-offs and use cases for linear and non-linear SVMs in classification tasks.\n"
   ]
  },
  {
   "cell_type": "markdown",
   "id": "e2ef2f94",
   "metadata": {},
   "source": [
    "a. Comparing the Performance of Linear and Non-linear SVM Models:\n",
    "\n",
    "To compare the performance of the linear and non-linear SVM models in credit risk assessment, you should consider metrics such as accuracy, precision, recall, and F1-score, as well as the practical implications of each model. Here's a general comparison:\n",
    "\n",
    "Linear SVM:\n",
    "\n",
    "Advantages:\n",
    "\n",
    "Simplicity: Linear SVMs have a simple and interpretable decision boundary (a straight line in the feature space).\n",
    "Efficiency: They are computationally efficient and suitable for large datasets.\n",
    "Suitable for linearly separable data: If the data can be effectively separated by a straight line, a linear SVM can perform well.\n",
    "Trade-offs:\n",
    "\n",
    "Limited to linear relationships: Linear SVMs cannot capture complex, non-linear patterns in the data effectively.\n",
    "May underperform on non-linear data: When the data is inherently non-linear, a linear SVM might lead to lower accuracy.\n",
    "Non-linear SVM (RBF Kernel):\n",
    "\n",
    "Advantages:\n",
    "\n",
    "Flexibility: Non-linear SVMs, especially with kernels like RBF, can handle complex, non-linear relationships in the data.\n",
    "Generalization: They can generalize well to a wide range of data patterns.\n",
    "Ability to capture non-linear credit risk factors: In credit risk assessment, various factors might interact in a non-linear way, making non-linear models more suitable.\n",
    "Trade-offs:\n",
    "\n",
    "Complexity: Non-linear SVMs can create complex decision boundaries, which may lead to overfitting if not properly regularized.\n",
    "Computational cost: They can be computationally more expensive, especially with large datasets.\n",
    "Interpretability: The decision boundary is not as interpretable as a linear SVM.\n",
    "When comparing the performance of these models, you should consider the following factors:\n",
    "\n",
    "Accuracy: Which model yields higher accuracy in classifying credit risk (e.g., good or bad credit)?\n",
    "Precision and Recall: Consider the precision and recall of each model to assess how well they perform in correctly classifying different classes and avoiding false positives and false negatives.\n",
    "Model Complexity: Evaluate the complexity of the decision boundary and the number of support vectors for each model. Simpler models are preferred when they provide acceptable performance.\n",
    "The choice between a linear and non-linear SVM depends on the nature of the data and the specific requirements of your credit risk assessment task."
   ]
  },
  {
   "cell_type": "markdown",
   "id": "c6a57eb7",
   "metadata": {},
   "source": [
    "b. Trade-offs and Use Cases for Linear and Non-linear SVMs:\n",
    "\n",
    "Linear SVM Use Cases:\n",
    "\n",
    "Linearly Separable Data: Linear SVMs are ideal for datasets where the classes can be effectively separated by a straight line.\n",
    "Efficiency: They are suitable for large datasets due to their computational efficiency.\n",
    "Interpretability: Linear SVMs provide a straightforward and interpretable decision boundary, making it easier to understand the model's reasoning.\n",
    "Non-linear SVM Use Cases:\n",
    "\n",
    "Complex Data Patterns: Non-linear SVMs, especially with kernels like RBF, are suitable when the data exhibits complex, non-linear relationships.\n",
    "Generalization: They are versatile and can generalize well across various data patterns, making them applicable in many scenarios.\n",
    "Credit Risk Assessment: In tasks like credit risk assessment, where the interaction of multiple factors may not follow linear relationships, non-linear SVMs can capture these nuances effectively."
   ]
  },
  {
   "cell_type": "markdown",
   "id": "6ee82b1f",
   "metadata": {},
   "source": [
    "# 8. Real-World Application:\n",
    "\n",
    "a. Describe the practical applications of credit risk assessment in the financial industry.\n",
    "\n",
    "b. Discuss how accurate credit risk assessment can benefit financial institutions and borrowers."
   ]
  },
  {
   "cell_type": "markdown",
   "id": "def4fa6f",
   "metadata": {},
   "source": [
    "a. Practical Applications of Credit Risk Assessment in the Financial Industry:\n",
    "\n",
    "Credit risk assessment plays a pivotal role in various aspects of the financial industry. Some practical applications include:\n",
    "\n",
    "Lending Decisions: Credit risk assessment is primarily used by banks and financial institutions to evaluate the creditworthiness of loan applicants. It helps determine whether to approve or deny loan applications and, if approved, the terms and interest rates associated with the loan.\n",
    "\n",
    "Credit Scoring: Credit scoring models, based on credit risk assessment, assign numerical scores to individuals and businesses to indicate their creditworthiness. These scores are used in lending decisions and are often the basis for approving or denying credit.\n",
    "\n",
    "Credit Card Issuance: Credit card companies use credit risk assessment to decide on credit limits, interest rates, and whether to issue credit cards to applicants. Accurate assessments help minimize the risk of default and delinquency.\n",
    "\n",
    "Mortgage Underwriting: In the mortgage industry, credit risk assessment is essential for assessing the risk associated with providing home loans. It influences the mortgage terms, including interest rates and down payment requirements.\n",
    "\n",
    "Insurance Premiums: In some insurance lines, like auto or property insurance, individuals' credit scores may affect the premiums they pay. Higher-risk applicants may face higher insurance costs.\n",
    "\n",
    "Investment Decisions: Financial institutions and investors use credit risk assessment to assess the creditworthiness of corporate and government bonds. This assessment guides investment decisions and pricing.\n",
    "\n",
    "Risk Management: Credit risk assessment is integral to managing the risk exposure of financial institutions. It helps set risk tolerance levels, allocate capital, and manage default risk."
   ]
  },
  {
   "cell_type": "markdown",
   "id": "8abfe0ce",
   "metadata": {},
   "source": [
    "b. Benefits of Accurate Credit Risk Assessment for Financial Institutions and Borrowers:\n",
    "\n",
    "Benefits for Financial Institutions:\n",
    "\n",
    "Risk Mitigation: Accurate credit risk assessment helps financial institutions identify and mitigate potential losses from loan defaults. It enables them to make informed lending decisions, reducing the risk of non-repayment.\n",
    "\n",
    "Profitability: By assessing credit risk effectively, financial institutions can optimize their loan portfolios. They can extend credit to individuals and businesses with lower default risk, leading to increased profitability.\n",
    "\n",
    "Regulatory Compliance: Compliance with regulatory requirements for credit risk assessment is crucial for avoiding penalties and legal issues. Accurate assessments help institutions meet these compliance standards.\n",
    "\n",
    "Capital Allocation: Efficient credit risk assessment allows financial institutions to allocate capital more effectively. They can set aside appropriate reserves for potential loan losses, ensuring financial stability.\n",
    "\n",
    "Investor Confidence: When financial institutions demonstrate prudent lending practices through accurate credit risk assessment, it attracts more investors and lowers the cost of capital, enhancing the institution's standing in the market.\n",
    "\n",
    "Benefits for Borrowers:\n",
    "\n",
    "Access to Credit: Accurate credit risk assessment ensures that borrowers who can reasonably afford to repay loans are more likely to receive credit, facilitating access to capital for personal or business needs.\n",
    "\n",
    "Fair Pricing: Borrowers with better credit profiles are offered loans at more favorable terms, including lower interest rates. This leads to cost savings for borrowers and more affordable credit.\n",
    "\n",
    "Credit Repair Opportunities: For borrowers with lower credit scores, accurate assessments provide a clear understanding of their credit situation. This knowledge can help them work on improving their creditworthiness over time.\n",
    "\n",
    "Consumer Protection: Proper credit risk assessment ensures that borrowers are not exposed to excessive debt that they cannot manage. This helps protect consumers from falling into unsustainable financial situations."
   ]
  }
 ],
 "metadata": {
  "kernelspec": {
   "display_name": "Python 3 (ipykernel)",
   "language": "python",
   "name": "python3"
  },
  "language_info": {
   "codemirror_mode": {
    "name": "ipython",
    "version": 3
   },
   "file_extension": ".py",
   "mimetype": "text/x-python",
   "name": "python",
   "nbconvert_exporter": "python",
   "pygments_lexer": "ipython3",
   "version": "3.11.4"
  }
 },
 "nbformat": 4,
 "nbformat_minor": 5
}
