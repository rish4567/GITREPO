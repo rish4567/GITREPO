{
 "cells": [
  {
   "cell_type": "markdown",
   "id": "eb99c0a0",
   "metadata": {},
   "source": [
    "# Build an Autoencoders deep neural network model for solving any specific problems."
   ]
  },
  {
   "cell_type": "code",
   "execution_count": null,
   "id": "cd004f7a",
   "metadata": {},
   "outputs": [],
   "source": [
    "import numpy as np\n",
    "import matplotlib.pyplot as plt\n",
    "from tensorflow import keras\n",
    "from tensorflow.keras import layers\n",
    "from tensorflow.keras.datasets import mnist\n",
    "\n",
    "# Load and preprocess the MNIST dataset\n",
    "(x_train, _), (x_test, _) = mnist.load_data()\n",
    "x_train = x_train.astype('float32') / 255.0\n",
    "x_test = x_test.astype('float32') / 255.0\n",
    "\n",
    "# Flatten the images\n",
    "x_train = x_train.reshape((len(x_train), np.prod(x_train.shape[1:])))\n",
    "x_test = x_test.reshape((len(x_test), np.prod(x_test.shape[1:])))\n",
    "\n",
    "# Define the autoencoder architecture\n",
    "input_dim = 784  # 28x28 pixels flattened\n",
    "encoding_dim = 32\n",
    "\n",
    "# Encoder\n",
    "encoder = keras.Sequential([\n",
    "    layers.Input(shape=(input_dim,)),\n",
    "    layers.Dense(encoding_dim, activation='relu'),\n",
    "])\n",
    "\n",
    "# Decoder\n",
    "decoder = keras.Sequential([\n",
    "    layers.Input(shape=(encoding_dim,)),\n",
    "    layers.Dense(input_dim, activation='sigmoid'),\n",
    "])\n",
    "\n",
    "# Autoencoder (combining encoder and decoder)\n",
    "autoencoder = keras.Sequential([encoder, decoder])\n",
    "\n",
    "# Compile the autoencoder\n",
    "autoencoder.compile(optimizer='adam', loss='binary_crossentropy')\n",
    "\n",
    "# Train the autoencoder\n",
    "epochs = 50\n",
    "batch_size = 256\n",
    "\n",
    "autoencoder.fit(x_train, x_train, epochs=epochs, batch_size=batch_size, shuffle=True, validation_data=(x_test, x_test))\n",
    "\n",
    "# Evaluate the autoencoder on test data\n",
    "decoded_imgs = autoencoder.predict(x_test)\n",
    "\n",
    "# Visualize original and reconstructed images\n",
    "n = 10  # number of digits to display\n",
    "plt.figure(figsize=(20, 4))\n",
    "for i in range(n):\n",
    "    # Display original images\n",
    "    ax = plt.subplot(2, n, i + 1)\n",
    "    plt.imshow(x_test[i].reshape(28, 28))\n",
    "    plt.gray()\n",
    "    ax.get_xaxis().set_visible(False)\n",
    "    ax.get_yaxis().set_visible(False)\n",
    "\n",
    "    # Display reconstructed images\n",
    "    ax = plt.subplot(2, n, i + 1 + n)\n",
    "    plt.imshow(decoded_imgs[i].reshape(28, 28))\n",
    "    plt.gray()\n",
    "    ax.get_xaxis().set_visible(False)\n",
    "    ax.get_yaxis().set_visible(False)\n",
    "\n",
    "plt.show()\n"
   ]
  }
 ],
 "metadata": {
  "kernelspec": {
   "display_name": "Python 3 (ipykernel)",
   "language": "python",
   "name": "python3"
  },
  "language_info": {
   "codemirror_mode": {
    "name": "ipython",
    "version": 3
   },
   "file_extension": ".py",
   "mimetype": "text/x-python",
   "name": "python",
   "nbconvert_exporter": "python",
   "pygments_lexer": "ipython3",
   "version": "3.11.4"
  }
 },
 "nbformat": 4,
 "nbformat_minor": 5
}
