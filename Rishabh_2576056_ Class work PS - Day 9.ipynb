{
 "cells": [
  {
   "cell_type": "markdown",
   "id": "ac9f78ff",
   "metadata": {},
   "source": [
    "# Dataset\n",
    "\n",
    " 1 np olympic_country=np.array(['GBR, \"Chine\", \"RUS\", \"US\", \"KOR\", \"JPN\", \"GER'])\n",
    "\n",
    " \n",
    "\n",
    "2 np olympic_country_goldenp.array([29, 38,24,46,13,7,11])\n",
    "\n",
    " \n",
    "\n",
    "3 np olympic_country_silver np.array([17,28,25,28,8,14,11])\n",
    "\n",
    " \n",
    "\n",
    "4 np olympic_country_Bronze np.array([19,22,32,29,7,17,14])\n",
    "\n",
    " \n"
   ]
  },
  {
   "cell_type": "markdown",
   "id": "33731599",
   "metadata": {},
   "source": [
    "# 1.find the country index with maximum gold"
   ]
  },
  {
   "cell_type": "code",
   "execution_count": 2,
   "id": "11b58562",
   "metadata": {},
   "outputs": [
    {
     "name": "stdout",
     "output_type": "stream",
     "text": [
      "Country with the maximum gold medals: US\n"
     ]
    }
   ],
   "source": [
    "import numpy as np\n",
    "olympic_country = np.array(['GBR', 'China', 'RUS', 'US', 'KOR', 'JPN', 'GER'])\n",
    "olympic_country_gold = np.array([29, 38, 24, 46, 13, 7, 11])\n",
    "max_gold_index = np.argmax(olympic_country_gold)\n",
    "print(\"Country with the maximum gold medals:\", olympic_country[max_gold_index])"
   ]
  },
  {
   "cell_type": "markdown",
   "id": "ac6fb420",
   "metadata": {},
   "source": [
    "# 2. Print the country with maximum gold"
   ]
  },
  {
   "cell_type": "code",
   "execution_count": 3,
   "id": "89206506",
   "metadata": {},
   "outputs": [
    {
     "name": "stdout",
     "output_type": "stream",
     "text": [
      "Country with the maximum gold medals: US\n"
     ]
    }
   ],
   "source": [
    "import numpy as np\n",
    "np_olympic_country = np.array(['GBR', 'China', 'RUS', 'US', 'KOR', 'JPN', 'GER'])\n",
    "np_olympic_country_gold = np.array([29, 38, 24, 46, 13, 7, 11])\n",
    "max_gold_index = np.argmax(np_olympic_country_gold)\n",
    "print(\"Country with the maximum gold medals:\", np_olympic_country[max_gold_index])"
   ]
  },
  {
   "cell_type": "markdown",
   "id": "0cb2c052",
   "metadata": {},
   "source": [
    "# 3.Find the countries with more than 20 gold medals"
   ]
  },
  {
   "cell_type": "code",
   "execution_count": 4,
   "id": "39cddcfe",
   "metadata": {},
   "outputs": [
    {
     "name": "stdout",
     "output_type": "stream",
     "text": [
      "Countries with more than 20 gold medals: ['GBR' 'China' 'RUS' 'US']\n"
     ]
    }
   ],
   "source": [
    "import numpy as np\n",
    "np_olympic_country = np.array(['GBR', 'China', 'RUS', 'US', 'KOR', 'JPN', 'GER'])\n",
    "np_olympic_country_gold = np.array([29, 38, 24, 46, 13, 7, 11])\n",
    "countries_with_more_than_20_gold = np_olympic_country[np_olympic_country_gold > 20]\n",
    "print(\"Countries with more than 20 gold medals:\", countries_with_more_than_20_gold)"
   ]
  },
  {
   "cell_type": "markdown",
   "id": "7d0ed65c",
   "metadata": {},
   "source": [
    "# 4.Evaluate the dataset and print the medal:\n",
    "    \n",
    "a) print each country name with no of gold medals\n",
    "\n",
    "b) print each country name with no of medals"
   ]
  },
  {
   "cell_type": "code",
   "execution_count": 18,
   "id": "4e75d725",
   "metadata": {},
   "outputs": [
    {
     "name": "stdout",
     "output_type": "stream",
     "text": [
      "a. Country names with the number of gold medals:\n",
      "GBR: 29 Gold Medals\n",
      "China: 38 Gold Medals\n",
      "RUS: 24 Gold Medals\n",
      "US: 46 Gold Medals\n",
      "KOR: 13 Gold Medals\n",
      "JPN: 7 Gold Medals\n",
      "GER: 11 Gold Medals\n",
      "\n",
      "b. Print each country name with no of medals:\n",
      "GBR: Total Medals: 65\n",
      "China: Total Medals: 88\n",
      "RUS: Total Medals: 81\n",
      "US: Total Medals: 103\n",
      "KOR: Total Medals: 28\n",
      "JPN: Total Medals: 38\n",
      "GER: Total Medals: 36\n"
     ]
    }
   ],
   "source": [
    "import numpy as np\n",
    "\n",
    "np_olympic_country = np.array(['GBR', 'China', 'RUS', 'US', 'KOR', 'JPN', 'GER'])\n",
    "np_olympic_country_gold = np.array([29, 38, 24, 46, 13, 7, 11])\n",
    "np_olympic_country_silver = np.array([17, 28, 25, 28, 8, 14, 11])\n",
    "np_olympic_country_bronze = np.array([19, 22, 32, 29, 7, 17, 14])\n",
    "print(\"a. Country names with the number of gold medals:\")\n",
    "for country, gold_medals in zip(olympic_country, olympic_country_gold):\n",
    "    print(f\"{country}: {gold_medals} Gold Medals\")\n",
    "    \n",
    "print(\"\\nb. Print each country name with no of medals:\")\n",
    "total_medals = np_olympic_country_gold + np_olympic_country_silver + np_olympic_country_bronze\n",
    "for country, total in zip(olympic_country, total_medals):\n",
    "    print(f\"{country}: Total Medals: {total}\")"
   ]
  },
  {
   "cell_type": "code",
   "execution_count": null,
   "id": "4c10f176",
   "metadata": {},
   "outputs": [],
   "source": []
  }
 ],
 "metadata": {
  "kernelspec": {
   "display_name": "Python 3 (ipykernel)",
   "language": "python",
   "name": "python3"
  },
  "language_info": {
   "codemirror_mode": {
    "name": "ipython",
    "version": 3
   },
   "file_extension": ".py",
   "mimetype": "text/x-python",
   "name": "python",
   "nbconvert_exporter": "python",
   "pygments_lexer": "ipython3",
   "version": "3.11.4"
  }
 },
 "nbformat": 4,
 "nbformat_minor": 5
}
