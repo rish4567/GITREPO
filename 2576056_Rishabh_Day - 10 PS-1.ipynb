{
 "cells": [
  {
   "cell_type": "code",
   "execution_count": 2,
   "id": "d1b6cfae",
   "metadata": {},
   "outputs": [],
   "source": [
    "%matplotlib inline\n",
    "import pandas as pd"
   ]
  },
  {
   "cell_type": "code",
   "execution_count": 6,
   "id": "eca20cb1",
   "metadata": {},
   "outputs": [
    {
     "data": {
      "text/html": [
       "<style>()</style>"
      ],
      "text/plain": [
       "<IPython.core.display.HTML object>"
      ]
     },
     "execution_count": 6,
     "metadata": {},
     "output_type": "execute_result"
    }
   ],
   "source": [
    "from IPython.core.display import HTML\n",
    "css=open('style-table.css').read() + open('style-notebook.css').read()\n",
    "HTML('<style>()</style>'.format(css))"
   ]
  },
  {
   "cell_type": "code",
   "execution_count": 8,
   "id": "6aa7cf17",
   "metadata": {},
   "outputs": [
    {
     "data": {
      "text/html": [
       "<div>\n",
       "<style scoped>\n",
       "    .dataframe tbody tr th:only-of-type {\n",
       "        vertical-align: middle;\n",
       "    }\n",
       "\n",
       "    .dataframe tbody tr th {\n",
       "        vertical-align: top;\n",
       "    }\n",
       "\n",
       "    .dataframe thead th {\n",
       "        text-align: right;\n",
       "    }\n",
       "</style>\n",
       "<table border=\"1\" class=\"dataframe\">\n",
       "  <thead>\n",
       "    <tr style=\"text-align: right;\">\n",
       "      <th></th>\n",
       "      <th>title</th>\n",
       "      <th>year</th>\n",
       "    </tr>\n",
       "  </thead>\n",
       "  <tbody>\n",
       "    <tr>\n",
       "      <th>0</th>\n",
       "      <td>Tasveer Mere Sanam</td>\n",
       "      <td>1996</td>\n",
       "    </tr>\n",
       "    <tr>\n",
       "      <th>1</th>\n",
       "      <td>Only You</td>\n",
       "      <td>1994</td>\n",
       "    </tr>\n",
       "    <tr>\n",
       "      <th>2</th>\n",
       "      <td>El pueblo del terror</td>\n",
       "      <td>1970</td>\n",
       "    </tr>\n",
       "    <tr>\n",
       "      <th>3</th>\n",
       "      <td>Machine</td>\n",
       "      <td>2007</td>\n",
       "    </tr>\n",
       "    <tr>\n",
       "      <th>4</th>\n",
       "      <td>MARy</td>\n",
       "      <td>2008</td>\n",
       "    </tr>\n",
       "  </tbody>\n",
       "</table>\n",
       "</div>"
      ],
      "text/plain": [
       "                  title  year\n",
       "0    Tasveer Mere Sanam  1996\n",
       "1              Only You  1994\n",
       "2  El pueblo del terror  1970\n",
       "3               Machine  2007\n",
       "4                  MARy  2008"
      ]
     },
     "execution_count": 8,
     "metadata": {},
     "output_type": "execute_result"
    }
   ],
   "source": [
    "titles=pd.read_csv('titles.csv')\n",
    "titles.head()"
   ]
  },
  {
   "cell_type": "markdown",
   "id": "c7661f13",
   "metadata": {},
   "source": [
    "# How many movies are listed in the titles dataframe?"
   ]
  },
  {
   "cell_type": "code",
   "execution_count": 9,
   "id": "f8c3f12d",
   "metadata": {},
   "outputs": [
    {
     "name": "stdout",
     "output_type": "stream",
     "text": [
      "Number of movies listed in the 'titles' DataFrame: 244914\n"
     ]
    }
   ],
   "source": [
    "num_movies = titles.shape[0]\n",
    "print(\"Number of movies listed in the 'titles' DataFrame:\", num_movies)"
   ]
  },
  {
   "cell_type": "markdown",
   "id": "7f6b6bd9",
   "metadata": {},
   "source": [
    "# What are the earliest two films listed in the titles dataframe?"
   ]
  },
  {
   "cell_type": "code",
   "execution_count": 10,
   "id": "1cdc7e90",
   "metadata": {},
   "outputs": [
    {
     "name": "stdout",
     "output_type": "stream",
     "text": [
      "The earliest two films listed in the 'titles' DataFrame:\n",
      "                     title  year\n",
      "193222          Miss Jerry  1894\n",
      "51388   The Startled Lover  1898\n"
     ]
    }
   ],
   "source": [
    "earliest_films = titles.sort_values(by='year').head(2)\n",
    "print(\"The earliest two films listed in the 'titles' DataFrame:\")\n",
    "print(earliest_films)"
   ]
  },
  {
   "cell_type": "markdown",
   "id": "0c919550",
   "metadata": {},
   "source": [
    "# How many movies have the title \"Hamlet\"?"
   ]
  },
  {
   "cell_type": "code",
   "execution_count": 11,
   "id": "f6b18b85",
   "metadata": {},
   "outputs": [
    {
     "name": "stdout",
     "output_type": "stream",
     "text": [
      "Number of movies with the title 'Hamlet': 20\n"
     ]
    }
   ],
   "source": [
    "hamlet_count = (titles['title'] == 'Hamlet').sum()\n",
    "print(\"Number of movies with the title 'Hamlet':\", hamlet_count)"
   ]
  },
  {
   "cell_type": "markdown",
   "id": "1e2cb048",
   "metadata": {},
   "source": [
    "# How many movies are titled \"North by Northwest\"?"
   ]
  },
  {
   "cell_type": "code",
   "execution_count": 12,
   "id": "efc66886",
   "metadata": {},
   "outputs": [
    {
     "name": "stdout",
     "output_type": "stream",
     "text": [
      "Number of movies titled 'North by Northwest': 1\n"
     ]
    }
   ],
   "source": [
    "north_by_northwest_count = (titles['title'] == 'North by Northwest').sum()\n",
    "print(\"Number of movies titled 'North by Northwest':\", north_by_northwest_count)"
   ]
  },
  {
   "cell_type": "markdown",
   "id": "a111cda0",
   "metadata": {},
   "source": [
    "# When was the first movie titled \"Hamlet\" made?"
   ]
  },
  {
   "cell_type": "code",
   "execution_count": 13,
   "id": "2f7e6047",
   "metadata": {},
   "outputs": [
    {
     "name": "stdout",
     "output_type": "stream",
     "text": [
      "The first movie titled 'Hamlet' was made in the year: 1910\n"
     ]
    }
   ],
   "source": [
    "hamlet_movies = titles[titles['title'] == 'Hamlet']\n",
    "earliest_hamlet_movie_year = hamlet_movies['year'].min()\n",
    "print(\"The first movie titled 'Hamlet' was made in the year:\", earliest_hamlet_movie_year)"
   ]
  },
  {
   "cell_type": "markdown",
   "id": "7b119086",
   "metadata": {},
   "source": [
    "# List all of the \"Treasure Island\" movies from earliest to most recent.\n"
   ]
  },
  {
   "cell_type": "code",
   "execution_count": 14,
   "id": "719d56dd",
   "metadata": {},
   "outputs": [
    {
     "name": "stdout",
     "output_type": "stream",
     "text": [
      "List of 'Treasure Island' movies from earliest to most recent:\n",
      "                  title  year\n",
      "55686   Treasure Island  1918\n",
      "196514  Treasure Island  1920\n",
      "141822  Treasure Island  1934\n",
      "77354   Treasure Island  1950\n",
      "65051   Treasure Island  1972\n",
      "37238   Treasure Island  1973\n",
      "173051  Treasure Island  1985\n",
      "27076   Treasure Island  1999\n"
     ]
    }
   ],
   "source": [
    "treasure_island_movies = titles[titles['title'] == 'Treasure Island']\n",
    "sorted_treasure_island_movies = treasure_island_movies.sort_values(by='year')\n",
    "print(\"List of 'Treasure Island' movies from earliest to most recent:\")\n",
    "print(sorted_treasure_island_movies)"
   ]
  },
  {
   "cell_type": "markdown",
   "id": "eb2706bc",
   "metadata": {},
   "source": [
    "# How many movies were made in the year 1950?"
   ]
  },
  {
   "cell_type": "code",
   "execution_count": 15,
   "id": "85d61ad7",
   "metadata": {},
   "outputs": [
    {
     "name": "stdout",
     "output_type": "stream",
     "text": [
      "Number of movies made in the year 1950: 1113\n"
     ]
    }
   ],
   "source": [
    "movies_in_1950 = titles[titles['year'] == 1950]\n",
    "num_movies_in_1950 = movies_in_1950.shape[0]\n",
    "print(\"Number of movies made in the year 1950:\", num_movies_in_1950)"
   ]
  },
  {
   "cell_type": "markdown",
   "id": "2d857173",
   "metadata": {},
   "source": [
    "# How many movies were made in the year 1960?"
   ]
  },
  {
   "cell_type": "code",
   "execution_count": 16,
   "id": "87f48b24",
   "metadata": {},
   "outputs": [
    {
     "name": "stdout",
     "output_type": "stream",
     "text": [
      "Number of movies made in the year 1960: 1549\n"
     ]
    }
   ],
   "source": [
    "movies_in_1960 = titles[titles['year'] == 1960]\n",
    "num_movies_in_1960 = movies_in_1960.shape[0]\n",
    "print(\"Number of movies made in the year 1960:\", num_movies_in_1960)"
   ]
  },
  {
   "cell_type": "markdown",
   "id": "9a3723be",
   "metadata": {},
   "source": [
    "# How many movies were made from 1950 through 1959?"
   ]
  },
  {
   "cell_type": "code",
   "execution_count": 17,
   "id": "7cee220f",
   "metadata": {},
   "outputs": [
    {
     "name": "stdout",
     "output_type": "stream",
     "text": [
      "Number of movies made from 1950 through 1959: 12934\n"
     ]
    }
   ],
   "source": [
    "movies_in_1950s = titles[(titles['year'] >= 1950) & (titles['year'] <= 1959)]\n",
    "num_movies_in_1950s = movies_in_1950s.shape[0]\n",
    "print(\"Number of movies made from 1950 through 1959:\", num_movies_in_1950s)"
   ]
  },
  {
   "cell_type": "markdown",
   "id": "ca85a823",
   "metadata": {},
   "source": [
    "# In what years has a movie titled \"Batman\" been released?"
   ]
  },
  {
   "cell_type": "code",
   "execution_count": 18,
   "id": "588aab93",
   "metadata": {},
   "outputs": [
    {
     "name": "stdout",
     "output_type": "stream",
     "text": [
      "Years in which a movie titled 'Batman' has been released: [1943 1989]\n"
     ]
    }
   ],
   "source": [
    "batman_movies = titles[titles['title'] == 'Batman']\n",
    "unique_years = batman_movies['year'].unique()\n",
    "print(\"Years in which a movie titled 'Batman' has been released:\", unique_years)"
   ]
  },
  {
   "cell_type": "markdown",
   "id": "8540c32e",
   "metadata": {},
   "source": [
    "# How many roles were there in the movie \"Inception\"?\""
   ]
  },
  {
   "cell_type": "code",
   "execution_count": 19,
   "id": "b507720b",
   "metadata": {},
   "outputs": [
    {
     "name": "stdout",
     "output_type": "stream",
     "text": [
      "Number of roles in the movie 'Inception': 56\n"
     ]
    }
   ],
   "source": [
    "cast = pd.read_csv(\"cast.csv\")\n",
    "inception_cast = cast[cast['title'] == 'Inception']\n",
    "num_roles_in_inception = inception_cast['character'].nunique()\n",
    "print(\"Number of roles in the movie 'Inception':\", num_roles_in_inception)"
   ]
  },
  {
   "cell_type": "markdown",
   "id": "37554669",
   "metadata": {},
   "source": [
    "# How many roles in the movie \"Inception\" are NOT ranked by an \"n\" value?"
   ]
  },
  {
   "cell_type": "code",
   "execution_count": 20,
   "id": "a0fc0306",
   "metadata": {},
   "outputs": [
    {
     "name": "stdout",
     "output_type": "stream",
     "text": [
      "Number of roles in the movie 'Inception' that are NOT ranked by an 'n' value: 27\n"
     ]
    }
   ],
   "source": [
    "cast = pd.read_csv(\"cast.csv\")\n",
    "inception_cast = cast[cast['title'] == 'Inception']\n",
    "num_roles_not_ranked = inception_cast['n'].isna().sum()\n",
    "print(\"Number of roles in the movie 'Inception' that are NOT ranked by an 'n' value:\", num_roles_not_ranked)"
   ]
  },
  {
   "cell_type": "markdown",
   "id": "a7a1af6d",
   "metadata": {},
   "source": [
    "# But how many roles in the movie \"Inception\" did receive an \"n\" value?"
   ]
  },
  {
   "cell_type": "code",
   "execution_count": 21,
   "id": "4b918e89",
   "metadata": {},
   "outputs": [
    {
     "name": "stdout",
     "output_type": "stream",
     "text": [
      "Number of roles in the movie 'Inception' that received an 'n' value: 51\n"
     ]
    }
   ],
   "source": [
    "cast = pd.read_csv(\"cast.csv\")\n",
    "inception_cast = cast[cast['title'] == 'Inception']\n",
    "num_roles_with_n_value = inception_cast['n'].count()\n",
    "print(\"Number of roles in the movie 'Inception' that received an 'n' value:\", num_roles_with_n_value)"
   ]
  },
  {
   "cell_type": "markdown",
   "id": "2a1c18f3",
   "metadata": {},
   "source": [
    "# Display the cast of \"North by Northwest\" in their correct \"n\"-value order, ignoring roles that did not earn a numeric \"n\" value."
   ]
  },
  {
   "cell_type": "code",
   "execution_count": 22,
   "id": "5a30d5c3",
   "metadata": {},
   "outputs": [
    {
     "name": "stdout",
     "output_type": "stream",
     "text": [
      "            n                  name\n",
      "871426    1.0            Cary Grant\n",
      "3518333   2.0       Eva Marie Saint\n",
      "1457165   3.0           James Mason\n",
      "3157232   4.0   Jessie Royce Landis\n",
      "356707    5.0        Leo G. Carroll\n",
      "3048272   6.0  Josephine Hutchinson\n",
      "1695173   7.0           Philip Ober\n",
      "1275337   8.0         Martin Landau\n",
      "2447081   9.0         Adam Williams\n",
      "1811387  10.0          Edward Platt\n",
      "665768   11.0     Robert Ellenstein\n",
      "2295714  12.0          Les Tremayne\n",
      "464736   13.0       Philip Coolidge\n",
      "1508344  14.0         Patrick McVey\n",
      "206471   15.0          Edward Binns\n",
      "1384780  16.0             Ken Lynch\n"
     ]
    }
   ],
   "source": [
    "cast = pd.read_csv(\"cast.csv\")\n",
    "north_by_northwest_cast = cast[cast['title'] == 'North by Northwest']\n",
    "north_by_northwest_cast = north_by_northwest_cast[pd.to_numeric(north_by_northwest_cast['n'], errors='coerce').notnull()]\n",
    "north_by_northwest_cast = north_by_northwest_cast.sort_values(by='n')\n",
    "print(north_by_northwest_cast[['n', 'name']])"
   ]
  },
  {
   "cell_type": "markdown",
   "id": "504e3ac4",
   "metadata": {},
   "source": [
    "# Display the entire cast, in \"n\"-order, of the 1972 film \"Sleuth\"."
   ]
  },
  {
   "cell_type": "code",
   "execution_count": 23,
   "id": "50feaa3e",
   "metadata": {},
   "outputs": [
    {
     "name": "stdout",
     "output_type": "stream",
     "text": [
      "           n                name\n",
      "1705394  1.0    Laurence Olivier\n",
      "326773   2.0       Michael Caine\n",
      "373876   3.0      Alec Cawthorne\n",
      "1465483  4.0  John (II) Matthews\n",
      "2724553  5.0  Eve (III) Channing\n",
      "1448690  6.0        Teddy Martin\n"
     ]
    }
   ],
   "source": [
    "cast = pd.read_csv(\"cast.csv\")\n",
    "sleuth_1972_cast = cast[(cast['title'] == 'Sleuth') & (cast['year'] == 1972)]\n",
    "sleuth_1972_cast = sleuth_1972_cast.sort_values(by='n')\n",
    "print(sleuth_1972_cast[['n', 'name']])"
   ]
  },
  {
   "cell_type": "markdown",
   "id": "bbf8802c",
   "metadata": {},
   "source": [
    "# Now display the entire cast, in \"n\"-order, of the 2007 version of \"Sleuth"
   ]
  },
  {
   "cell_type": "code",
   "execution_count": 24,
   "id": "930deab6",
   "metadata": {},
   "outputs": [
    {
     "name": "stdout",
     "output_type": "stream",
     "text": [
      "           n                 name\n",
      "326774   1.0        Michael Caine\n",
      "1293634  2.0             Jude Law\n",
      "1805907  3.0        Harold Pinter\n",
      "260242   NaN      Kenneth Branagh\n",
      "373877   NaN  Alec (II) Cawthorne\n",
      "2724552  NaN    Eve (II) Channing\n",
      "3370424  NaN    Carmel O'Sullivan\n"
     ]
    }
   ],
   "source": [
    "cast = pd.read_csv(\"cast.csv\")\n",
    "sleuth_2007_cast = cast[(cast['title'] == 'Sleuth') & (cast['year'] == 2007)]\n",
    "sleuth_2007_cast = sleuth_2007_cast.sort_values(by='n')\n",
    "print(sleuth_2007_cast[['n', 'name']])"
   ]
  },
  {
   "cell_type": "markdown",
   "id": "daba1f4e",
   "metadata": {},
   "source": [
    "# How many roles were credited in the silent 1921 version of Hamlet?"
   ]
  },
  {
   "cell_type": "code",
   "execution_count": 25,
   "id": "786f57f2",
   "metadata": {},
   "outputs": [
    {
     "name": "stdout",
     "output_type": "stream",
     "text": [
      "Number of roles credited in the silent 1921 version of 'Hamlet': 9\n"
     ]
    }
   ],
   "source": [
    "cast = pd.read_csv(\"cast.csv\")\n",
    "hamlet_1921_cast = cast[(cast['title'] == 'Hamlet') & (cast['year'] == 1921)]\n",
    "num_roles_in_hamlet_1921 = hamlet_1921_cast['character'].nunique()\n",
    "print(\"Number of roles credited in the silent 1921 version of 'Hamlet':\", num_roles_in_hamlet_1921)"
   ]
  },
  {
   "cell_type": "markdown",
   "id": "f18a3b7b",
   "metadata": {},
   "source": [
    "# How many roles were credited in Branagh's 1996 Hamlet?"
   ]
  },
  {
   "cell_type": "code",
   "execution_count": 26,
   "id": "2350f2d5",
   "metadata": {},
   "outputs": [
    {
     "name": "stdout",
     "output_type": "stream",
     "text": [
      "Number of roles credited in Kenneth Branagh's 1996 version of 'Hamlet': 1\n"
     ]
    }
   ],
   "source": [
    "cast = pd.read_csv(\"cast.csv\")\n",
    "branagh_hamlet_1996_cast = cast[(cast['title'] == 'Hamlet') & (cast['year'] == 1996) & (cast['name'] == 'Kenneth Branagh')]\n",
    "num_roles_in_branagh_hamlet_1996 = branagh_hamlet_1996_cast['character'].nunique()\n",
    "print(\"Number of roles credited in Kenneth Branagh's 1996 version of 'Hamlet':\", num_roles_in_branagh_hamlet_1996)"
   ]
  },
  {
   "cell_type": "markdown",
   "id": "b1c0dbb0",
   "metadata": {},
   "source": [
    "# How many \"Hamlet\" roles have been listed in all film credits through history?"
   ]
  },
  {
   "cell_type": "code",
   "execution_count": 27,
   "id": "a011c5d9",
   "metadata": {},
   "outputs": [
    {
     "name": "stdout",
     "output_type": "stream",
     "text": [
      "Number of 'Hamlet' roles listed in all film credits through history: 112\n"
     ]
    }
   ],
   "source": [
    "hamlet_roles = cast[cast['title'] == 'Hamlet']\n",
    "num_hamlet_roles = hamlet_roles['character'].nunique()\n",
    "print(\"Number of 'Hamlet' roles listed in all film credits through history:\", num_hamlet_roles)"
   ]
  },
  {
   "cell_type": "markdown",
   "id": "1ffc186e",
   "metadata": {},
   "source": [
    "# How many people have played an \"Ophelia\"?"
   ]
  },
  {
   "cell_type": "code",
   "execution_count": 28,
   "id": "e0c2467e",
   "metadata": {},
   "outputs": [
    {
     "name": "stdout",
     "output_type": "stream",
     "text": [
      "Number of people who have played the role of 'Ophelia': 115\n"
     ]
    }
   ],
   "source": [
    "ophelia_actors = cast[cast['character'] == 'Ophelia']\n",
    "num_ophelia_actors = ophelia_actors['name'].nunique()\n",
    "print(\"Number of people who have played the role of 'Ophelia':\", num_ophelia_actors)"
   ]
  },
  {
   "cell_type": "markdown",
   "id": "f0c33b8c",
   "metadata": {},
   "source": [
    "# How many people have played a role called \"The Dude\"?"
   ]
  },
  {
   "cell_type": "code",
   "execution_count": 31,
   "id": "4ed590b0",
   "metadata": {},
   "outputs": [
    {
     "name": "stdout",
     "output_type": "stream",
     "text": [
      "Number of people who have played a role called 'The Dude': 19\n"
     ]
    }
   ],
   "source": [
    "the_dude_actors = cast[cast['character'] == 'The Dude']\n",
    "num_the_dude_actors = the_dude_actors['name'].nunique()\n",
    "print(\"Number of people who have played a role called 'The Dude':\", num_the_dude_actors)"
   ]
  },
  {
   "cell_type": "markdown",
   "id": "b580def2",
   "metadata": {},
   "source": [
    "# How many people have played a role called \"The Stranger\"?"
   ]
  },
  {
   "cell_type": "code",
   "execution_count": 32,
   "id": "93f0f9a6",
   "metadata": {},
   "outputs": [
    {
     "name": "stdout",
     "output_type": "stream",
     "text": [
      "Number of people who have played a role called 'The Stranger': 202\n"
     ]
    }
   ],
   "source": [
    "the_stranger_actors = cast[cast['character'] == 'The Stranger']\n",
    "num_the_stranger_actors = the_stranger_actors['name'].nunique()\n",
    "print(\"Number of people who have played a role called 'The Stranger':\", num_the_stranger_actors)"
   ]
  },
  {
   "cell_type": "markdown",
   "id": "c914be26",
   "metadata": {},
   "source": [
    "# How many roles has Sidney Poitier played throughout his career?"
   ]
  },
  {
   "cell_type": "code",
   "execution_count": 33,
   "id": "fd99dbad",
   "metadata": {},
   "outputs": [
    {
     "name": "stdout",
     "output_type": "stream",
     "text": [
      "Number of roles played by Sidney Poitier throughout his career: 41\n"
     ]
    }
   ],
   "source": [
    "sidney_poitier_roles = cast[cast['name'] == 'Sidney Poitier']\n",
    "num_sidney_poitier_roles = sidney_poitier_roles['character'].nunique()\n",
    "print(\"Number of roles played by Sidney Poitier throughout his career:\", num_sidney_poitier_roles)\n",
    "      "
   ]
  },
  {
   "cell_type": "markdown",
   "id": "f72a8cde",
   "metadata": {},
   "source": [
    "# How many roles has Judi Dench played?\n"
   ]
  },
  {
   "cell_type": "code",
   "execution_count": 34,
   "id": "0a050f76",
   "metadata": {},
   "outputs": [
    {
     "name": "stdout",
     "output_type": "stream",
     "text": [
      "Number of roles played by Judi Dench: 46\n"
     ]
    }
   ],
   "source": [
    "judi_dench_roles = cast[cast['name'] == 'Judi Dench']\n",
    "num_judi_dench_roles = judi_dench_roles['character'].nunique()\n",
    "print(\"Number of roles played by Judi Dench:\", num_judi_dench_roles)"
   ]
  },
  {
   "cell_type": "markdown",
   "id": "a86f37f9",
   "metadata": {},
   "source": [
    "# List the supporting roles (having n=2) played by Cary Grant in the 1940s, in order by year."
   ]
  },
  {
   "cell_type": "code",
   "execution_count": 35,
   "id": "ff355590",
   "metadata": {},
   "outputs": [
    {
     "name": "stdout",
     "output_type": "stream",
     "text": [
      "        year    character\n",
      "871423  1940   Nick Arden\n",
      "871433  1941  Roger Adams\n"
     ]
    }
   ],
   "source": [
    "cary_grant_supporting_roles_1940s = cast[(cast['name'] == 'Cary Grant') & (cast['n'] == 2) & (cast['year'] // 10 == 194)]\n",
    "cary_grant_supporting_roles_194s = cary_grant_supporting_roles_1940s.sort_values(by='year')\n",
    "print(cary_grant_supporting_roles_194s[['year', 'character']])"
   ]
  },
  {
   "cell_type": "markdown",
   "id": "9625f675",
   "metadata": {},
   "source": [
    "# How many roles were available for actors in the 1950s?"
   ]
  },
  {
   "cell_type": "code",
   "execution_count": 36,
   "id": "3aa82aac",
   "metadata": {},
   "outputs": [
    {
     "name": "stdout",
     "output_type": "stream",
     "text": [
      "Number of roles available for actors in the 1950s: 215471\n"
     ]
    }
   ],
   "source": [
    "roles_in_1950s = cast[(cast['year'] >= 1950) & (cast['year'] <= 1959)]\n",
    "num_roles_in_1950s = roles_in_1950s.shape[0]\n",
    "print(\"Number of roles available for actors in the 1950s:\", num_roles_in_1950s)"
   ]
  },
  {
   "cell_type": "markdown",
   "id": "3e473b8f",
   "metadata": {},
   "source": [
    "# List the leading roles that Cary Grant played in the 1940s in order"
   ]
  },
  {
   "cell_type": "code",
   "execution_count": 37,
   "id": "0f9eb3a9",
   "metadata": {},
   "outputs": [
    {
     "name": "stdout",
     "output_type": "stream",
     "text": [
      "        year                             character\n",
      "871448  1940                           Matt Howard\n",
      "871407  1940                          Walter Burns\n",
      "871450  1940                    C. K. Dexter Haven\n",
      "871438  1941                      Johnnie Aysgarth\n",
      "871452  1942                          Leopold Dilg\n",
      "871429  1942                 Patrick 'Pat' O'Toole\n",
      "871398  1943                         Capt. Cassidy\n",
      "871422  1943  Joe Adams -posing as Joe Bascopolous\n",
      "871430  1944                           Jerry Flynn\n",
      "871390  1944                     Mortimer Brewster\n",
      "871425  1944                            Ernie Mott\n",
      "871424  1946                           Cole Porter\n",
      "871427  1946                                Devlin\n",
      "871444  1947                           Dick Nugent\n",
      "871445  1947                                Dudley\n",
      "871421  1948                         Jim Blandings\n",
      "871402  1948                     Dr. Madison Brown\n",
      "871411  1949                 Captain Henri Rochard\n"
     ]
    }
   ],
   "source": [
    "cary_grant_leading_roles_1940s = cast[(cast['name'] == 'Cary Grant') & (cast['n'] == 1) & (cast['year'] // 10 == 194)]\n",
    "cary_grant_leading_roles_1940s = cary_grant_leading_roles_1940s.sort_values(by='year')\n",
    "print(cary_grant_leading_roles_1940s[['year', 'character']])"
   ]
  },
  {
   "cell_type": "markdown",
   "id": "fb86071e",
   "metadata": {},
   "source": [
    "# How many roles were available for actresses in the 1950s?"
   ]
  },
  {
   "cell_type": "code",
   "execution_count": 38,
   "id": "d24451f4",
   "metadata": {},
   "outputs": [
    {
     "name": "stdout",
     "output_type": "stream",
     "text": [
      "Number of roles available for actresses in the 1950s: 57733\n"
     ]
    }
   ],
   "source": [
    "actress_roles_in_1950s = cast[(cast['year'] >= 1950) & (cast['year'] <= 1959) & (cast['type'].isin(['actress', 'female']))]\n",
    "num_actress_roles_in_1950s = actress_roles_in_1950s.shape[0]\n",
    "print(\"Number of roles available for actresses in the 1950s:\", num_actress_roles_in_1950s)"
   ]
  },
  {
   "cell_type": "markdown",
   "id": "b9cc727d",
   "metadata": {},
   "source": [
    "# How many leading roles (n=1) were available from the beginning of film history through 1980?"
   ]
  },
  {
   "cell_type": "code",
   "execution_count": 40,
   "id": "2c0e65d2",
   "metadata": {},
   "outputs": [
    {
     "name": "stdout",
     "output_type": "stream",
     "text": [
      "Number of leading roles (n=1) available from the beginning of film history through 1980: 65140\n"
     ]
    }
   ],
   "source": [
    "start_year = 1900  # Adjust this as needed\n",
    "leading_roles_until_1980 = cast[(cast['n'] == 1) & (cast['year'] >= start_year) & (cast['year'] <= 1980)]\n",
    "num_leading_roles_until_1980 = leading_roles_until_1980.shape[0]\n",
    "print(\"Number of leading roles (n=1) available from the beginning of film history through 1980:\", num_leading_roles_until_1980)"
   ]
  },
  {
   "cell_type": "markdown",
   "id": "0e5d2db2",
   "metadata": {},
   "source": [
    "# How many non-leading roles were available through from the beginning of film history through 1980"
   ]
  },
  {
   "cell_type": "code",
   "execution_count": 44,
   "id": "43289656",
   "metadata": {},
   "outputs": [
    {
     "name": "stdout",
     "output_type": "stream",
     "text": [
      "Number of non-leading roles (n ≠ 1) available from the beginning of film history through 1980: 1117664\n"
     ]
    }
   ],
   "source": [
    "start_year = 1900  \n",
    "non_leading_roles_until_1980 = cast[(cast['n'] != 1) & (cast['year'] >= start_year) & (cast['year'] <= 1980)]\n",
    "num_non_leading_roles_until_1980 = non_leading_roles_until_1980.shape[0]\n",
    "print(\"Number of non-leading roles (n ≠ 1) available from the beginning of film history through 1980:\", num_non_leading_roles_until_1980)"
   ]
  },
  {
   "cell_type": "markdown",
   "id": "a1418c89",
   "metadata": {},
   "source": [
    "# How many roles through 1980 were minor enough that they did not warrant a numeric \"n\" rank?"
   ]
  },
  {
   "cell_type": "code",
   "execution_count": 42,
   "id": "0881559e",
   "metadata": {},
   "outputs": [
    {
     "name": "stdout",
     "output_type": "stream",
     "text": [
      "Number of roles through 1980 that did not have a numeric 'n' rank: 1182807\n"
     ]
    }
   ],
   "source": [
    "minor_roles_through_1980 = cast[(cast['year'] <= 1980) & (~cast['n'].astype(str).str.isnumeric())]\n",
    "num_minor_roles_through_1980 = minor_roles_through_1980.shape[0]\n",
    "print(\"Number of roles through 1980 that did not have a numeric 'n' rank:\", num_minor_roles_through_1980)"
   ]
  },
  {
   "cell_type": "code",
   "execution_count": null,
   "id": "fd36b25f",
   "metadata": {},
   "outputs": [],
   "source": []
  }
 ],
 "metadata": {
  "kernelspec": {
   "display_name": "Python 3 (ipykernel)",
   "language": "python",
   "name": "python3"
  },
  "language_info": {
   "codemirror_mode": {
    "name": "ipython",
    "version": 3
   },
   "file_extension": ".py",
   "mimetype": "text/x-python",
   "name": "python",
   "nbconvert_exporter": "python",
   "pygments_lexer": "ipython3",
   "version": "3.11.4"
  }
 },
 "nbformat": 4,
 "nbformat_minor": 5
}
