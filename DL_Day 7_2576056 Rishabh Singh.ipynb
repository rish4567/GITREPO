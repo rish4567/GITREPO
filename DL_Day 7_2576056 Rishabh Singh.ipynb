{
 "cells": [
  {
   "cell_type": "markdown",
   "id": "fbab16c4",
   "metadata": {},
   "source": [
    "# Develop a predictive maintenance model using LSTM-RNN to forecast equipment failures, enabling proactive maintenance and reducing downtime. "
   ]
  },
  {
   "cell_type": "markdown",
   "id": "0fca5862",
   "metadata": {},
   "source": [
    "\n",
    "Developing a predictive maintenance model using Long Short-Term Memory Recurrent Neural Networks (LSTM-RNN) involves several steps. "
   ]
  },
  {
   "cell_type": "code",
   "execution_count": null,
   "id": "5576c0ce",
   "metadata": {},
   "outputs": [],
   "source": [
    "import numpy as np\n",
    "import pandas as pd\n",
    "import matplotlib.pyplot as plt\n",
    "from sklearn.preprocessing import MinMaxScaler\n",
    "from sklearn.model_selection import train_test_split\n",
    "from tensorflow.keras.models import Sequential\n",
    "from tensorflow.keras.layers import LSTM, Dense, Dropout\n",
    "\n",
    "# Load your dataset\n",
    "# Assuming your dataset has a 'timestamp' and 'failure' column\n",
    "# 'timestamp' should be in datetime format, and 'failure' is a binary indicator of equipment failure\n",
    "# Additional features related to equipment condition can be included in your dataset\n",
    "\n",
    "# For demonstration purposes, let's generate a sample dataset\n",
    "np.random.seed(42)\n",
    "timestamps = pd.date_range(start='2022-01-01', end='2022-12-31', freq='D')\n",
    "failure_dates = np.random.choice(timestamps, size=10, replace=False)\n",
    "data = pd.DataFrame({'timestamp': timestamps, 'failure': 0})\n",
    "data.loc[data['timestamp'].isin(failure_dates), 'failure'] = 1\n",
    "\n",
    "# Feature engineering (you may have additional features in your dataset)\n",
    "data['day_of_week'] = data['timestamp'].dt.dayofweek\n",
    "data['day_of_month'] = data['timestamp'].dt.day\n",
    "data['month'] = data['timestamp'].dt.month\n",
    "\n",
    "# Normalize data\n",
    "scaler = MinMaxScaler()\n",
    "data[['day_of_week', 'day_of_month', 'month']] = scaler.fit_transform(data[['day_of_week', 'day_of_month', 'month']])\n",
    "\n",
    "# Prepare sequences for LSTM\n",
    "sequence_length = 10  # Adjust as needed\n",
    "X, y = [], []\n",
    "\n",
    "for i in range(len(data) - sequence_length):\n",
    "    seq_X = data[['day_of_week', 'day_of_month', 'month']].values[i:i+sequence_length]\n",
    "    seq_y = data['failure'].values[i+sequence_length]\n",
    "    X.append(seq_X)\n",
    "    y.append(seq_y)\n",
    "\n",
    "X, y = np.array(X), np.array(y)\n",
    "\n",
    "# Train-test split\n",
    "X_train, X_test, y_train, y_test = train_test_split(X, y, test_size=0.2, random_state=42)\n",
    "\n",
    "# Build LSTM model\n",
    "model = Sequential()\n",
    "model.add(LSTM(units=50, input_shape=(X.shape[1], X.shape[2])))\n",
    "model.add(Dropout(0.2))\n",
    "model.add(Dense(units=1, activation='sigmoid'))\n",
    "model.compile(optimizer='adam', loss='binary_crossentropy', metrics=['accuracy'])\n",
    "\n",
    "# Train the model\n",
    "model.fit(X_train, y_train, epochs=10, batch_size=32, validation_data=(X_test, y_test))\n",
    "\n",
    "# Evaluate the model\n",
    "loss, accuracy = model.evaluate(X_test, y_test)\n",
    "print(f\"Test Loss: {loss}, Test Accuracy: {accuracy}\")\n",
    "\n",
    "# Make predictions on new data\n",
    "new_data = [...]  # Input new sequences\n",
    "new_data = scaler.transform(new_data)\n",
    "new_data = np.array([new_data])\n",
    "predicted_failure_probability = model.predict(new_data)\n",
    "\n",
    "# Threshold the predicted probability to determine if maintenance is required\n",
    "threshold = 0.5\n",
    "predicted_failure = (predicted_failure_probability > threshold).astype(int)\n",
    "\n",
    "print(f\"Predicted Failure Probability: {predicted_failure_probability[0, 0]}\")\n",
    "print(f\"Predicted Failure: {predicted_failure[0, 0]}\")\n"
   ]
  }
 ],
 "metadata": {
  "kernelspec": {
   "display_name": "Python 3 (ipykernel)",
   "language": "python",
   "name": "python3"
  },
  "language_info": {
   "codemirror_mode": {
    "name": "ipython",
    "version": 3
   },
   "file_extension": ".py",
   "mimetype": "text/x-python",
   "name": "python",
   "nbconvert_exporter": "python",
   "pygments_lexer": "ipython3",
   "version": "3.11.4"
  }
 },
 "nbformat": 4,
 "nbformat_minor": 5
}
