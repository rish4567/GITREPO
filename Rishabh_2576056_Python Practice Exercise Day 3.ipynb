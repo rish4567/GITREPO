{
 "cells": [
  {
   "cell_type": "markdown",
   "id": "1b9aab34",
   "metadata": {},
   "source": [
    "# 1. Write a python function that copies a file reading and writing up to 50 characters at a time.\n"
   ]
  },
  {
   "cell_type": "code",
   "execution_count": 14,
   "id": "0138efd8",
   "metadata": {},
   "outputs": [
    {
     "name": "stdout",
     "output_type": "stream",
     "text": [
      "File 'source.txt' copied to 'destination.txt' successfully.\n"
     ]
    }
   ],
   "source": [
    "def copy_file(source_file, destination_file):\n",
    "   try:\n",
    "       with open(source_file, 'rb') as source, open(destination_file, 'wb') as destination:\n",
    "           while True:\n",
    "               chunk = source.read(50)  \n",
    "               if not chunk:\n",
    "                   break \n",
    "               destination.write(chunk)  \n",
    "       print(f\"File '{source_file}' copied to '{destination_file}' successfully.\")\n",
    "   except FileNotFoundError:\n",
    "       print(\"File not found.\")\n",
    "   except Exception as e:\n",
    "       print(f\"An error occurred: {str(e)}\")\n",
    "\n",
    "copy_file('source.txt', 'destination.txt')"
   ]
  },
  {
   "cell_type": "markdown",
   "id": "6ded9431",
   "metadata": {},
   "source": [
    "# 2. Print all numbers present in the text file and print the number of blank spaces in that file."
   ]
  },
  {
   "cell_type": "code",
   "execution_count": 8,
   "id": "1d5d32aa",
   "metadata": {},
   "outputs": [
    {
     "name": "stdout",
     "output_type": "stream",
     "text": [
      "Numbers in the file: ['1', '2', '3', '5', '78', '34', '43', '56']\n",
      "Number of blank spaces: 12\n"
     ]
    }
   ],
   "source": [
    "file_name = \"your_text_file.txt\"\n",
    "\n",
    "with open(file_name, \"r\") as file:\n",
    "    text = file.read()\n",
    "\n",
    "  \n",
    "    import re\n",
    "    numbers = re.findall(r'\\d+', text)\n",
    "    print(\"Numbers in the file:\", numbers)\n",
    "\n",
    "\n",
    "    blank_space_count = text.count(' ')\n",
    "    print(\"Number of blank spaces:\", blank_space_count)"
   ]
  },
  {
   "cell_type": "markdown",
   "id": "2b2a7745",
   "metadata": {},
   "source": [
    "# 3Write a function called sed that takes as arguments a pattern string, a replacement string, and two filenames; it should read the first file and write the contents into the second file (creating it if necessary)If the pattern string appears anywhere in the file, it should be replaced with the replacement string. If an error occurs while opening, reading, writing, or closing files, your program should catch the exception, print an error message, and exit."
   ]
  },
  {
   "cell_type": "code",
   "execution_count": 11,
   "id": "e4358d3d",
   "metadata": {},
   "outputs": [
    {
     "name": "stdout",
     "output_type": "stream",
     "text": [
      "An error occurred: 'charmap' codec can't decode byte 0x81 in position 49: character maps to <undefined>\n"
     ]
    }
   ],
   "source": [
    "def sed(pattern, replacement, input_file, output_file):\n",
    "   try:\n",
    "       with open(input_file, \"r\") as infile, open(output_file, \"w\") as outfile:\n",
    "           for line in infile:\n",
    "               modified_line = line.replace(pattern, replacement)\n",
    "               outfile.write(modified_line)\n",
    "   except Exception as e:\n",
    "       print(\"An error occurred:\", str(e))\n",
    "\n",
    "\n",
    "sed(\"old_pattern\", \"new_pattern\", \"input.txt\", \"output.txt\")"
   ]
  },
  {
   "cell_type": "markdown",
   "id": "c84331ac",
   "metadata": {},
   "source": [
    "# 4. Log File Analysis: You have a log file containing records of user activities on a website\n",
    "\n",
    "Each line in the file represents a log entry with details like timestamp, user ID, and action performedYour task is to analyze this log file. \n",
    "a)Write Python code to read the log file and extract specific information, such as thenumber of unique users or the most common action.\n",
    "\n",
    "b). How would you handle large log files efficiently without loading the entire file into memory?"
   ]
  },
  {
   "cell_type": "code",
   "execution_count": null,
   "id": "a73b3bd5",
   "metadata": {},
   "outputs": [],
   "source": [
    "\n",
    "\n",
    "from collections import Counter\n",
    "def analyze_log(log_file_path):   \n",
    "    unique_users = set()\n",
    "    action_counts = Counter()\n",
    "    try:\n",
    "        with open(log_file_path, 'r') as file:\n",
    "            for line in file:\n",
    "               \n",
    "                parts = line.split()\n",
    "                if len(parts) >= 3:\n",
    "                    \n",
    "                    timestamp, user_id, action = parts[0], parts[1], parts[2]\n",
    "                    \n",
    "                    unique_users.add(user_id)\n",
    "                    action_counts[action] += 1\n",
    "                   \n",
    "\n",
    "        \n",
    "        print(f\"Number of unique users:\",len(unique_users))\n",
    "        most_common_action, most_common_count = action_counts.most_common(1)[0]\n",
    "        print(f\"Most common action:\",most_common_action,most_common_count,\" times)\")\n",
    "\n",
    "    except FileNotFoundError:\n",
    "        print(f\"Log file not found:\",log_file_path)\n",
    "    except Exception as e:\n",
    "        print(f\"An error occurred:\",str(e))\n",
    "\n",
    "\n",
    "log_file_path = 'C:\\Users\\Rishabh\\Downloads'\n",
    "analyze_log(log_file_path)"
   ]
  },
  {
   "cell_type": "markdown",
   "id": "178de099",
   "metadata": {},
   "source": [
    "# 5.Text File Search and Replace: You have a text file with a large amount of textand you want to search for specific words or phrases and replace them with new content.\n",
    "\n",
    "(a)Write Python code to search for and replace text within a text file\n",
    "(b). How would you handle cases where you need to perform multiple replacements in a single pass"
   ]
  },
  {
   "cell_type": "code",
   "execution_count": 25,
   "id": "71112990",
   "metadata": {},
   "outputs": [
    {
     "name": "stdout",
     "output_type": "stream",
     "text": [
      "Text replaced successfully in output.txt\n"
     ]
    }
   ],
   "source": [
    "def search_replace_in_file(input_file, output_file, search_text, replace_text):\n",
    "    try:\n",
    "        with open(input_file, 'r') as file:\n",
    "            file_data = file.read()\n",
    "            file_data = file_data.replace(search_text, replace_text)\n",
    "\n",
    "        with open(output_file, 'w') as file:\n",
    "            file.write(file_data)\n",
    "            \n",
    "        print(f\"Text replaced successfully in {output_file}\")\n",
    "    \n",
    "    except FileNotFoundError:\n",
    "        print(\"Input file not found.\")\n",
    "    except Exception as e:\n",
    "        print(f\"An error occurred: {str(e)}\")\n",
    "\n",
    "# Example usage:\n",
    "input_file = 'input.txt'\n",
    "output_file = 'output.txt'\n",
    "search_text = 'old_text'\n",
    "replace_text = 'new_text'\n",
    "search_replace_in_file(input_file, output_file, search_text, replace_text)"
   ]
  },
  {
   "cell_type": "markdown",
   "id": "320c9425",
   "metadata": {},
   "source": [
    "# 6Write a Python script that concatenates the contents of multiple text files into a single output fileAllow the user to specify the input files and the output file."
   ]
  },
  {
   "cell_type": "code",
   "execution_count": 13,
   "id": "c37fb58f",
   "metadata": {},
   "outputs": [
    {
     "name": "stdout",
     "output_type": "stream",
     "text": [
      "Enter an input file (or type 'done' to finish): done\n",
      "Enter the output file name: output\n",
      "Concatenated 0 files into output\n"
     ]
    }
   ],
   "source": [
    "def concatenate_files(input_files, output_file):\n",
    "   try:\n",
    "       with open(output_file, 'w') as output:\n",
    "           for input_file in input_files:\n",
    "               with open(input_file, 'r') as file:\n",
    "                   output.write(file.read())\n",
    "       print(f\"Concatenated {len(input_files)} files into {output_file}\")\n",
    "   except Exception as e:\n",
    "       print(f\"An error occurred: {str(e)}\")\n",
    "\n",
    "if __name__ == \"__main__\":\n",
    "   input_files = []\n",
    "   while True:\n",
    "       file_name = input(\"Enter an input file (or type 'done' to finish): \")\n",
    "       if file_name.lower() == 'done':\n",
    "           break\n",
    "       input_files.append(file_name)\n",
    "\n",
    "   output_file = input(\"Enter the output file name: \")\n",
    "\n",
    "   concatenate_files(input_files, output_file)"
   ]
  },
  {
   "cell_type": "markdown",
   "id": "161abca3",
   "metadata": {},
   "source": [
    "# 7. You are given a text file named input.txt containing a list of words, one word per line. Your task is to create a Python program that reads the contents of input.txt, processes the words, and writes the result to an output file named output.txt. aThe program should perform the following operations:\n",
    "\n",
    "(i)Read the words from input.txt.\n",
    "\n",
    "(ii.) For each word in the input file, calculate the length of the word and store it in a dictionary where the word is the key, and the length is the value. iii. Write the word-length dictionary to output.txt in the following format:\n",
    "\n",
    "Word1: Length1\n",
    "\n",
    "Word2: Length2\n",
    "\n",
    "ivClose both input and output files properly. vWrite Python code to accomplish this task. Ensure proper error handling\n",
    "\n",
    "for file operations\n",
    "\n",
    "Sample Input('input.txt')\n",
    "\n",
    "apple\n",
    "\n",
    "banana cherry date\n",
    "\n",
    "Sample Output(\"output.txt')\n",
    "\n",
    "apple: 5\n",
    "\n",
    "banana: 6\n",
    "\n",
    "cherry: 6\n",
    "\n",
    "date: 4\n",
    "\n",
    "Note: Your code should work for any input file containing words and produce the corresponding word-length dictionary in the output file."
   ]
  },
  {
   "cell_type": "code",
   "execution_count": 17,
   "id": "66fa2c14",
   "metadata": {},
   "outputs": [
    {
     "name": "stdout",
     "output_type": "stream",
     "text": [
      "An unexpected error occurred: 'charmap' codec can't decode byte 0x81 in position 49: character maps to <undefined>\n"
     ]
    }
   ],
   "source": [
    "try:\n",
    "   \n",
    "   with open('input.txt', 'r') as input_file:\n",
    "      \n",
    "       word_lengths = {}\n",
    "\n",
    "       \n",
    "       for line in input_file:\n",
    "           words = line.strip().split()\n",
    "           for word in words:\n",
    "               word_lengths[word] = len(word)\n",
    "\n",
    "   \n",
    "   with open('output.txt', 'w') as output_file:\n",
    "   \n",
    "       for word, length in word_lengths.items():\n",
    "           output_file.write(f'{word}: {length}\\n')\n",
    "\n",
    "   print(\"Operation completed successfully.\")\n",
    "\n",
    "except FileNotFoundError:\n",
    "   print(\"Input file 'input.txt' not found.\")\n",
    "except IOError:\n",
    "   print(\"An error occurred while reading/writing the files.\")\n",
    "except Exception as e:\n",
    "   print(f\"An unexpected error occurred: {str(e)}\")\n"
   ]
  },
  {
   "cell_type": "markdown",
   "id": "8fcde33b",
   "metadata": {},
   "source": [
    "# 8. Assume that you are developing a student gradebook system for a schoolThe system should allow teachers to input student grades for various subjects, store the data in filesand provide students with the ability to view their grades. Design a Python program that accomplishes the following tasks:\n",
    "\n",
    "iTeachers should be able to input grades for students in different subjects\n",
    "\n",
    "iiStore the student grade data in separate text files for each subject. \n",
    "\n",
    "iii. Students should be able to view their grades for each subject.\n",
    "\n",
    "iv. Implement error handling for file operations, such as file not found or permission issues."
   ]
  },
  {
   "cell_type": "code",
   "execution_count": 23,
   "id": "878deb98",
   "metadata": {},
   "outputs": [
    {
     "name": "stdout",
     "output_type": "stream",
     "text": [
      "Options:\n",
      "1. Input Grades\n",
      "2. View Grades\n",
      "3. Quit\n",
      "Enter your choice (1/2/3): 3\n"
     ]
    }
   ],
   "source": [
    "\n",
    "def input_grades():\n",
    "   subject = input(\"Enter the subject: \")\n",
    "   student_name = input(\"Enter student's name: \")\n",
    "   grade = input(\"Enter the grade: \")\n",
    "\n",
    "  \n",
    "   if not os.path.exists(subject):\n",
    "       os.mkdir(subject)\n",
    "\n",
    "   file_path = os.path.join(subject, student_name + \".txt\")\n",
    "   with open(file_path, \"w\") as file:\n",
    "       file.write(grade)\n",
    "\n",
    "\n",
    "def view_grades():\n",
    "   subject = input(\"Enter the subject to view grades: \")\n",
    "   student_name = input(\"Enter your name: \")\n",
    "\n",
    "   file_path = os.path.join(subject, student_name + \".txt\")\n",
    "   try:\n",
    "       with open(file_path, \"r\") as file:\n",
    "           grade = file.read()\n",
    "           print(f\"Your grade in {subject}: {grade}\")\n",
    "   except FileNotFoundError:\n",
    "       print(\"File not found.\")\n",
    "   except PermissionError:\n",
    "       print(\"Permission issue while accessing the file.\")\n",
    "\n",
    "\n",
    "while True:\n",
    "   print(\"Options:\")\n",
    "   print(\"1. Input Grades\")\n",
    "   print(\"2. View Grades\")\n",
    "   print(\"3. Quit\")\n",
    "\n",
    "   choice = input(\"Enter your choice (1/2/3): \")\n",
    "\n",
    "   if choice == \"1\":\n",
    "       input_grades()\n",
    "   elif choice == \"2\":\n",
    "       view_grades()\n",
    "   elif choice == \"3\":\n",
    "       break\n",
    "   else:\n",
    "       print(\"Invalid choice. Please select 1, 2, or 3.\")"
   ]
  },
  {
   "cell_type": "code",
   "execution_count": null,
   "id": "54195512",
   "metadata": {},
   "outputs": [],
   "source": []
  }
 ],
 "metadata": {
  "kernelspec": {
   "display_name": "Python 3 (ipykernel)",
   "language": "python",
   "name": "python3"
  },
  "language_info": {
   "codemirror_mode": {
    "name": "ipython",
    "version": 3
   },
   "file_extension": ".py",
   "mimetype": "text/x-python",
   "name": "python",
   "nbconvert_exporter": "python",
   "pygments_lexer": "ipython3",
   "version": "3.11.4"
  }
 },
 "nbformat": 4,
 "nbformat_minor": 5
}
