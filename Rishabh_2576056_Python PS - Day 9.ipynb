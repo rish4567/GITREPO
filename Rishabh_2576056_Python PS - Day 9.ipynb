{
 "cells": [
  {
   "cell_type": "markdown",
   "id": "dde4eb33",
   "metadata": {},
   "source": [
    "# 1. Create a 3x3x3 array with random values"
   ]
  },
  {
   "cell_type": "code",
   "execution_count": 4,
   "id": "0c0b92b8",
   "metadata": {},
   "outputs": [
    {
     "name": "stdout",
     "output_type": "stream",
     "text": [
      "[[[0.53014877 0.21511448 0.11451959]\n",
      "  [0.6485     0.70419599 0.20997636]\n",
      "  [0.85573344 0.91367459 0.313345  ]]\n",
      "\n",
      " [[0.24234714 0.94968758 0.83440982]\n",
      "  [0.43926406 0.16221917 0.44060612]\n",
      "  [0.3710831  0.88806776 0.97486356]]\n",
      "\n",
      " [[0.81923131 0.74306787 0.95696461]\n",
      "  [0.07460499 0.34465213 0.68940507]\n",
      "  [0.02687334 0.22694281 0.06223956]]]\n"
     ]
    }
   ],
   "source": [
    "import numpy as np\n",
    "random_array = np.random.rand(3, 3, 3)\n",
    "print(random_array)"
   ]
  },
  {
   "cell_type": "markdown",
   "id": "c4716a83",
   "metadata": {},
   "source": [
    "# 2. Create a 5x5 matrix with values 1,2,3,4 just below the diagonal"
   ]
  },
  {
   "cell_type": "code",
   "execution_count": 5,
   "id": "c2f85b3a",
   "metadata": {},
   "outputs": [
    {
     "name": "stdout",
     "output_type": "stream",
     "text": [
      "[[0 0 0 0 0]\n",
      " [1 0 0 0 0]\n",
      " [0 2 0 0 0]\n",
      " [0 0 3 0 0]\n",
      " [0 0 0 4 0]]\n"
     ]
    }
   ],
   "source": [
    "import numpy as np\n",
    "matrix = np.diag(1 + np.arange(4), k=-1)\n",
    "print(matrix)"
   ]
  },
  {
   "cell_type": "markdown",
   "id": "6aca1025",
   "metadata": {},
   "source": [
    "# 3. Create a 8x8 matrix and fill it with a checkerboard pattern"
   ]
  },
  {
   "cell_type": "code",
   "execution_count": 7,
   "id": "96392e2f",
   "metadata": {},
   "outputs": [
    {
     "name": "stdout",
     "output_type": "stream",
     "text": [
      "[[0 1 0 1 0 1 0 1]\n",
      " [1 0 1 0 1 0 1 0]\n",
      " [0 1 0 1 0 1 0 1]\n",
      " [1 0 1 0 1 0 1 0]\n",
      " [0 1 0 1 0 1 0 1]\n",
      " [1 0 1 0 1 0 1 0]\n",
      " [0 1 0 1 0 1 0 1]\n",
      " [1 0 1 0 1 0 1 0]]\n"
     ]
    }
   ],
   "source": [
    "import numpy as np\n",
    "checkerboard = np.zeros((8, 8), dtype=int)\n",
    "checkerboard[1::2, ::2] = 1\n",
    "checkerboard[::2, 1::2] = 1\n",
    "print(checkerboard)"
   ]
  },
  {
   "cell_type": "markdown",
   "id": "7b171dd6",
   "metadata": {},
   "source": [
    "# 4. Normalize a 5x5 random matrix"
   ]
  },
  {
   "cell_type": "code",
   "execution_count": 11,
   "id": "6ce7a10a",
   "metadata": {},
   "outputs": [
    {
     "name": "stdout",
     "output_type": "stream",
     "text": [
      "Original array elements:\n",
      "[[0.13052487 0.80839778 0.96168827 0.81498578 0.60818431]\n",
      " [0.42381065 0.75784952 0.46398724 0.62848639 0.58657236]\n",
      " [0.03408952 0.45115612 0.48415867 0.92913724 0.93447703]\n",
      " [0.92189249 0.40874821 0.67267673 0.32959609 0.58527052]\n",
      " [0.97966157 0.74673165 0.15302355 0.29720441 0.66800462]]\n",
      "Original Array:\n",
      "[[0.13052487 0.80839778 0.96168827 0.81498578 0.60818431]\n",
      " [0.42381065 0.75784952 0.46398724 0.62848639 0.58657236]\n",
      " [0.03408952 0.45115612 0.48415867 0.92913724 0.93447703]\n",
      " [0.92189249 0.40874821 0.67267673 0.32959609 0.58527052]\n",
      " [0.97966157 0.74673165 0.15302355 0.29720441 0.66800462]]\n",
      "\n",
      "Normalized Array (column-wise):\n",
      "[[-0.93796462  1.02915705  1.55849174  0.85005323 -0.51583886]\n",
      " [-0.18935665  0.72987179 -0.31246287  0.11303969 -0.67902235]\n",
      " [-1.18411454 -1.08599307 -0.23663457  1.30116015  1.94787201]\n",
      " [ 1.08199051 -1.33708108  0.47204133 -1.06812335 -0.6888521 ]\n",
      " [ 1.22944529  0.66404531 -1.48143563 -1.19612971 -0.0641587 ]]\n"
     ]
    }
   ],
   "source": [
    "import numpy as np\n",
    "nums = np.random.rand(5, 5)\n",
    "print(\"Original array elements:\")\n",
    "print(nums)\n",
    "col_means = np.mean(nums, axis=0)\n",
    "arr_normalized = (nums - col_means) / np.std(nums, axis=0)\n",
    "print(\"Original Array:\")\n",
    "print(nums)\n",
    "print(\"\\nNormalized Array (column-wise):\")\n",
    "print(arr_normalized)"
   ]
  },
  {
   "cell_type": "markdown",
   "id": "e5cedf9b",
   "metadata": {},
   "source": [
    "# 5. How to find common values between two arrays?"
   ]
  },
  {
   "cell_type": "code",
   "execution_count": 13,
   "id": "9b05493f",
   "metadata": {},
   "outputs": [
    {
     "name": "stdout",
     "output_type": "stream",
     "text": [
      "Array1:  [ 0 10 20 40 60]\n",
      "Array2:  [10, 30, 40]\n",
      "Common values between two arrays:\n",
      "[10 40]\n"
     ]
    }
   ],
   "source": [
    "import numpy as np\n",
    "array1 = np.array([0, 10, 20, 40, 60])\n",
    "print(\"Array1: \",array1)\n",
    "array2 = [10, 30, 40]\n",
    "print(\"Array2: \",array2)\n",
    "print(\"Common values between two arrays:\")\n",
    "print(np.intersect1d(array1, array2))"
   ]
  },
  {
   "cell_type": "markdown",
   "id": "3fb52ca3",
   "metadata": {},
   "source": [
    "# 6. How to get the dates of yesterday, today and tomorrow?"
   ]
  },
  {
   "cell_type": "code",
   "execution_count": 14,
   "id": "bd3cbd58",
   "metadata": {},
   "outputs": [
    {
     "name": "stdout",
     "output_type": "stream",
     "text": [
      "Yesterday: 2023-09-20 14:41:15.436827\n",
      "Today: 2023-09-21 14:41:15.436827\n",
      "Tomorrow: 2023-09-22 14:41:15.436827\n"
     ]
    }
   ],
   "source": [
    "from datetime import datetime, timedelta\n",
    "\n",
    "today = datetime.now()\n",
    "yesterday = today - timedelta(days=1)\n",
    "tomorrow = today + timedelta(days=1)\n",
    "\n",
    "print(\"Yesterday:\", yesterday)\n",
    "print(\"Today:\", today)\n",
    "print(\"Tomorrow:\", tomorrow)"
   ]
  },
  {
   "cell_type": "markdown",
   "id": "f44058a8",
   "metadata": {},
   "source": [
    "# 7. Consider two random array A and B, check if they are equal"
   ]
  },
  {
   "cell_type": "code",
   "execution_count": 16,
   "id": "e55a7802",
   "metadata": {},
   "outputs": [
    {
     "name": "stdout",
     "output_type": "stream",
     "text": [
      "First array:\n",
      "[1 1 0 0 1 1]\n",
      "Second array:\n",
      "[1 1 0 1 1 0]\n",
      "Test above two arrays are equal or not!\n",
      "False\n"
     ]
    }
   ],
   "source": [
    "import numpy as np\n",
    "x = np.random.randint(0,2,6)\n",
    "print(\"First array:\")\n",
    "print(x)\n",
    "y = np.random.randint(0,2,6)\n",
    "print(\"Second array:\")\n",
    "print(y)\n",
    "print(\"Test above two arrays are equal or not!\")\n",
    "array_equal = np.allclose(x, y)\n",
    "print(array_equal)"
   ]
  },
  {
   "cell_type": "markdown",
   "id": "8da12dba",
   "metadata": {},
   "source": [
    "# 8.Create random vector of size 10 and replace the maximum value by 0"
   ]
  },
  {
   "cell_type": "code",
   "execution_count": 21,
   "id": "ce5c2513",
   "metadata": {},
   "outputs": [
    {
     "name": "stdout",
     "output_type": "stream",
     "text": [
      "Original array:\n",
      "[0.13393253 0.72641345 0.61442588 0.49610666 0.92526477 0.44227204\n",
      " 0.46403618 0.38156195 0.84424075 0.32744169]\n",
      "Maximum value replaced by 0:\n",
      "[0.13393253 0.72641345 0.61442588 0.49610666 0.         0.44227204\n",
      " 0.46403618 0.38156195 0.84424075 0.32744169]\n"
     ]
    }
   ],
   "source": [
    "import numpy as np\n",
    "x = np.random.random(10)\n",
    "print(\"Original array:\")\n",
    "print(x)\n",
    "x[x.argmax()] = 0\n",
    "print(\"Maximum value replaced by 0:\")\n",
    "print(x)"
   ]
  },
  {
   "cell_type": "markdown",
   "id": "36f8f929",
   "metadata": {},
   "source": [
    "# 9. How to print all the values of an array?"
   ]
  },
  {
   "cell_type": "code",
   "execution_count": 17,
   "id": "9dc16911",
   "metadata": {},
   "outputs": [
    {
     "name": "stdout",
     "output_type": "stream",
     "text": [
      "[1 2 3 4 5]\n"
     ]
    }
   ],
   "source": [
    "import numpy as np\n",
    "my_array = np.array([1, 2, 3, 4, 5])\n",
    "print(my_array)"
   ]
  },
  {
   "cell_type": "markdown",
   "id": "03453b3c",
   "metadata": {},
   "source": [
    "# 10.Subtract the mean of each row of a matrix"
   ]
  },
  {
   "cell_type": "code",
   "execution_count": 23,
   "id": "29218216",
   "metadata": {},
   "outputs": [
    {
     "name": "stdout",
     "output_type": "stream",
     "text": [
      "Original matrix:\n",
      "\n",
      "[[0.31718496 0.16101443 0.25623781 0.16736917 0.43024048 0.11055169\n",
      "  0.20248448 0.70383157 0.48479317 0.38557616]\n",
      " [0.58714181 0.38879825 0.40514671 0.22792204 0.46381933 0.81448364\n",
      "  0.25237103 0.67242053 0.01724588 0.62596965]\n",
      " [0.9790412  0.94792365 0.11795944 0.23773696 0.47012645 0.78924255\n",
      "  0.52950981 0.83644409 0.63308074 0.06012892]\n",
      " [0.09966432 0.56187691 0.49369496 0.43716502 0.70502928 0.62127902\n",
      "  0.9292402  0.63959574 0.27227473 0.81559869]\n",
      " [0.59282217 0.21991991 0.34770444 0.22109883 0.90195685 0.55032491\n",
      "  0.83886648 0.82108507 0.14753711 0.08050424]]\n",
      "\n",
      "Subtract the mean of each row of the said matrix:\n",
      "\n",
      "[[-0.00474343 -0.16091396 -0.06569058 -0.15455922  0.10831208 -0.2113767\n",
      "  -0.11944391  0.38190318  0.16286478  0.06364777]\n",
      " [ 0.14160992 -0.05673363 -0.04038518 -0.21760985  0.01828745  0.36895175\n",
      "  -0.19316086  0.22688864 -0.428286    0.18043776]\n",
      " [ 0.41892182  0.38780427 -0.44215994 -0.32238242 -0.08999293  0.22912317\n",
      "  -0.03060957  0.27632471  0.07296136 -0.49999046]\n",
      " [-0.45787756  0.00433502 -0.06384693 -0.12037687  0.14748739  0.06373713\n",
      "   0.37169832  0.08205385 -0.28526716  0.2580568 ]\n",
      " [ 0.12064017 -0.25226209 -0.12447756 -0.25108317  0.42977485  0.07814291\n",
      "   0.36668448  0.34890307 -0.32464489 -0.39167776]]\n"
     ]
    }
   ],
   "source": [
    "import numpy as np\n",
    "print(\"Original matrix:\\n\")\n",
    "X = np.random.rand(5, 10)\n",
    "print(X)\n",
    "print(\"\\nSubtract the mean of each row of the said matrix:\\n\")\n",
    "Y = X - X.mean(axis=1, keepdims=True)\n",
    "print(Y)"
   ]
  },
  {
   "cell_type": "markdown",
   "id": "eea49b97",
   "metadata": {},
   "source": [
    "# 11. Consider a given vector, how to add 1 to each element indexed by a second vector (be careful with repeated indices)?"
   ]
  },
  {
   "cell_type": "code",
   "execution_count": 26,
   "id": "f6f4138b",
   "metadata": {},
   "outputs": [
    {
     "name": "stdout",
     "output_type": "stream",
     "text": [
      "[3. 3. 2. 4. 5. 3. 2. 4. 3. 1.]\n"
     ]
    }
   ],
   "source": [
    "Z = np.ones(10)\n",
    "I = np.random.randint(0,len(Z),20)\n",
    "Z += np.bincount(I, minlength=len(Z))\n",
    "print(Z)"
   ]
  },
  {
   "cell_type": "markdown",
   "id": "3d15d7fd",
   "metadata": {},
   "source": [
    "# 12.How to get the diagonal of a dot product?"
   ]
  },
  {
   "cell_type": "code",
   "execution_count": 28,
   "id": "eb39c484",
   "metadata": {},
   "outputs": [
    {
     "name": "stdout",
     "output_type": "stream",
     "text": [
      "[52.47487898 52.20352114 48.44998743 53.31340345 39.87494273 47.79028303\n",
      " 52.82223057 57.19572797 52.81369313 47.75969723 47.91253157 51.14179878\n",
      " 55.81486391 49.04174699 51.13924367 46.68859081 49.66478996 52.5826935\n",
      " 46.50637189 49.89498806 48.46468641 49.61319102 44.49406439 54.30846152\n",
      " 48.35174521 50.78487792 49.8967627  51.07734075 43.87369779 50.29704037\n",
      " 55.86417771 52.21264484 50.71132425 49.7376617  48.36799829 48.93301815\n",
      " 51.92772529 49.65144334 49.47292192 50.257864   52.59832874 50.02225986\n",
      " 48.17351592 42.56880636 51.51021092 49.47071121 51.94711193 52.54851904\n",
      " 47.84819651 54.15716015 48.66890733 47.69033247 47.22461384 43.85110289\n",
      " 48.91258882 49.99807117 48.71417647 45.85965031 51.74560918 52.35049338\n",
      " 48.21731286 50.09309525 48.90057097 48.94305042 51.02136007 55.97433844\n",
      " 49.27953805 50.82984796 53.91073489 53.31778182 50.16788317 46.99986967\n",
      " 45.84200769 44.82619394 50.64834708 53.13114101 54.89394699 47.79977456\n",
      " 50.24503258 50.63320478 53.8484205  53.2078931  48.06657618 44.18369175\n",
      " 48.14943214 54.48274    49.94069835 42.89721117 57.19410089 48.87556361\n",
      " 51.4557357  48.00788054 49.6625884  47.37590665 54.63785529 49.23027527\n",
      " 56.77042915 47.86777084 51.36747348 51.04421545 49.5618462  48.43114707\n",
      " 51.98020036 52.56072451 51.10780683 52.73714032 46.38819183 54.57596779\n",
      " 49.19939063 51.03989661 49.58453479 46.79947373 54.31484605 51.00718186\n",
      " 50.00760782 49.37875657 44.23537758 50.59155051 52.79985879 49.3041108\n",
      " 48.04676602 57.89752268 53.50652238 47.33882188 47.67172885 44.25410563\n",
      " 50.85915948 47.96839866 49.14459876 49.0233488  51.02860805 50.67670684\n",
      " 53.2047563  51.48496103 50.07195808 50.41282664 52.02227745 48.85921201\n",
      " 47.60109964 49.61477798 55.75630709 50.45617058 51.55819036 51.70195165\n",
      " 48.22738782 48.78583275 52.99397725 47.22746247 54.12097394 47.0736232\n",
      " 51.32653143 49.80547235 47.36265961 54.78002216 51.44345136 49.63435703\n",
      " 50.29124946 52.23284381 53.53049193 51.53723805 49.59341936 51.82335438\n",
      " 53.12963689 48.68508893 48.39535699 45.56083293 50.91285066 52.60612839\n",
      " 55.54482408 46.23796731 48.6666529  49.65129236 52.55613445 49.78834948\n",
      " 50.68115308 53.0597976  54.08493037 51.50963325 53.23938527 46.4551326\n",
      " 47.21353806 50.86336972 51.63873472 47.03034312 53.7554092  50.60044715\n",
      " 48.95524626 47.39667302 49.23379233 51.16048899 48.69009001 44.61143892\n",
      " 54.35927432 50.98251057 48.93353597 49.78630291 52.30837235 49.93931629\n",
      " 52.91634388 55.85228006]\n",
      "[[0.28540577 0.06850394 0.1212902  ... 0.07804844 0.23787969 0.39044402]\n",
      " [0.1672024  0.51706236 0.831154   ... 0.57319121 0.83196024 0.82309744]\n",
      " [0.68027419 0.04969428 0.1633016  ... 0.96841016 0.5149285  0.85898023]\n",
      " ...\n",
      " [0.81185609 0.16331158 0.09962427 ... 0.33892442 0.49467326 0.90562925]\n",
      " [0.50388316 0.90909199 0.94757507 ... 0.75471451 0.85471431 0.40345513]\n",
      " [0.6682264  0.57643068 0.31585725 ... 0.27406202 0.39059946 0.23388779]]\n"
     ]
    }
   ],
   "source": [
    "import numpy as np\n",
    "a = np.random.rand(1000,200)\n",
    "b = np.random.rand(200,200)\n",
    "print(np.diag(np.dot(a, b)))\n",
    "print(a)"
   ]
  },
  {
   "cell_type": "markdown",
   "id": "45867674",
   "metadata": {},
   "source": [
    "# 13. How to find the most frequent value in an array?"
   ]
  },
  {
   "cell_type": "code",
   "execution_count": 31,
   "id": "aa6ba8a4",
   "metadata": {},
   "outputs": [
    {
     "name": "stdout",
     "output_type": "stream",
     "text": [
      "Original array:\n",
      "[8 2 4 4 6 1 7 3 8 2 8 2 6 3 0 4 7 0 0 5 8 3 9 3 5 8 3 7 3 0 1 9 1 4 9 3 2\n",
      " 0 7 8]\n",
      "Most frequent value in the above array:\n",
      "3\n"
     ]
    }
   ],
   "source": [
    "import numpy as np\n",
    "x = np.random.randint(0, 10, 40)\n",
    "print(\"Original array:\")\n",
    "print(x)\n",
    "print(\"Most frequent value in the above array:\")\n",
    "print(np.bincount(x).argmax())"
   ]
  },
  {
   "cell_type": "markdown",
   "id": "28415113",
   "metadata": {},
   "source": [
    "# 14. How to get the n largest values of an array"
   ]
  },
  {
   "cell_type": "code",
   "execution_count": 33,
   "id": "f798778b",
   "metadata": {},
   "outputs": [
    {
     "name": "stdout",
     "output_type": "stream",
     "text": [
      "Original array:\n",
      "[0 1 2 3 4 5 6 7 8 9]\n",
      "[9]\n"
     ]
    }
   ],
   "source": [
    "import numpy as np\n",
    "x = np.arange(10)\n",
    "print(\"Original array:\")\n",
    "print(x)\n",
    "np.random.shuffle(x)\n",
    "n = 1\n",
    "print (x[np.argsort(x)[-n:]])"
   ]
  },
  {
   "cell_type": "markdown",
   "id": "bafe0d36",
   "metadata": {},
   "source": [
    "# 15. How to create a record array from a regular array?"
   ]
  },
  {
   "cell_type": "code",
   "execution_count": 35,
   "id": "c58489d8",
   "metadata": {},
   "outputs": [
    {
     "name": "stdout",
     "output_type": "stream",
     "text": [
      "[('Alice', 85) ('Bob', 92) ('Charlie', 78)]\n"
     ]
    }
   ],
   "source": [
    "import numpy as np\n",
    "names = ['Alice', 'Bob', 'Charlie']\n",
    "scores = [85, 92, 78]\n",
    "record_array = np.rec.fromarrays([names, scores], names=['Name', 'Score'])\n",
    "print(record_array)"
   ]
  },
  {
   "cell_type": "markdown",
   "id": "5fa18689",
   "metadata": {},
   "source": [
    "# 16. How to swap two rows of an array"
   ]
  },
  {
   "cell_type": "code",
   "execution_count": 36,
   "id": "c4b3c1cd",
   "metadata": {},
   "outputs": [
    {
     "name": "stdout",
     "output_type": "stream",
     "text": [
      "[[4 3 1]\n",
      " [5 7 0]\n",
      " [9 9 3]\n",
      " [8 2 4]]\n",
      "[[9 9 3]\n",
      " [5 7 0]\n",
      " [4 3 1]\n",
      " [8 2 4]]\n"
     ]
    }
   ],
   "source": [
    "import numpy as np\n",
    "a = np.array([[4,3, 1],[5 ,7, 0],[9, 9, 3],[8, 2, 4]]) \n",
    "print(a)\n",
    "a[[0, 2]] = a[[2, 0]]\n",
    "print(a)"
   ]
  },
  {
   "cell_type": "markdown",
   "id": "2906e2fa",
   "metadata": {},
   "source": [
    "# 17. Write a python code to reshape to the next dimension of numpy array"
   ]
  },
  {
   "cell_type": "code",
   "execution_count": 37,
   "id": "a8de00ab",
   "metadata": {},
   "outputs": [
    {
     "name": "stdout",
     "output_type": "stream",
     "text": [
      "[[1 2]\n",
      " [3 4]\n",
      " [5 6]\n",
      " [7 8]]\n"
     ]
    }
   ],
   "source": [
    "import numpy as np\n",
    "myarray = np.array([1, 2, 3, 4, 5, 6, 7, 8])\n",
    "newarray = myarray.reshape(4, 2)\n",
    "print(newarray)"
   ]
  }
 ],
 "metadata": {
  "kernelspec": {
   "display_name": "Python 3 (ipykernel)",
   "language": "python",
   "name": "python3"
  },
  "language_info": {
   "codemirror_mode": {
    "name": "ipython",
    "version": 3
   },
   "file_extension": ".py",
   "mimetype": "text/x-python",
   "name": "python",
   "nbconvert_exporter": "python",
   "pygments_lexer": "ipython3",
   "version": "3.11.4"
  }
 },
 "nbformat": 4,
 "nbformat_minor": 5
}
