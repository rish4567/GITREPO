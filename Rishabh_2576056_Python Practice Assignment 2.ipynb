{
 "cells": [
  {
   "cell_type": "markdown",
   "id": "8ea2d983",
   "metadata": {},
   "source": [
    "# 1 Write a python function to list even and odd numbers in a list"
   ]
  },
  {
   "cell_type": "code",
   "execution_count": 58,
   "id": "23545d78",
   "metadata": {},
   "outputs": [
    {
     "name": "stdout",
     "output_type": "stream",
     "text": [
      "Even numbers: [2, 4, 6]\n",
      "Odd numbers: [1, 3, 5]\n"
     ]
    }
   ],
   "source": [
    "def list_even_odd_numbers(numbers):\n",
    "    even_numbers = []\n",
    "    odd_numbers = []\n",
    "    \n",
    "    for num in numbers:\n",
    "        if num % 2 == 0:\n",
    "            even_numbers.append(num)\n",
    "        else:\n",
    "            odd_numbers.append(num)\n",
    "    \n",
    "    return even_numbers, odd_numbers\n",
    "numbers = [1, 2, 3, 4, 5, 6]\n",
    "even, odd = list_even_odd_numbers(numbers)\n",
    "print(\"Even numbers:\", even)\n",
    "print(\"Odd numbers:\", odd)\n",
    "\n",
    "\n",
    "        "
   ]
  },
  {
   "cell_type": "markdown",
   "id": "d899f31d",
   "metadata": {},
   "source": [
    "# 2Write and run a Python program that asks the user to enter 8 integers (one at a time)and then prints out how many of those integers were even numbers. For example, if the user entered 19,6, 9, 20, 13, 7, 6, and 1, then your program should print out 3 since 3 of those numbers were even"
   ]
  },
  {
   "cell_type": "code",
   "execution_count": 59,
   "id": "a695b18a",
   "metadata": {},
   "outputs": [
    {
     "name": "stdout",
     "output_type": "stream",
     "text": [
      "Ent an integer:6\n",
      "1\n",
      "Ent an integer:77\n",
      "Ent an integer:45\n",
      "Ent an integer:87\n",
      "Ent an integer:4\n",
      "2\n",
      "Ent an integer:76\n",
      "3\n"
     ]
    }
   ],
   "source": [
    "even_count = 0\n",
    "for i in range(6):\n",
    "    num = int(input(\"Ent an integer:\"))\n",
    "    if num % 2 == 0:\n",
    "        even_count += 1\n",
    "        print(even_count)"
   ]
  },
  {
   "cell_type": "markdown",
   "id": "0517d521",
   "metadata": {},
   "source": [
    "# 3# 1Write a Python program where you take any positive integer nif n is evendivide it by 2 to get n/\n",
    "2. If n is odd, multiply it by 3 and add 1 to obtain 3n+ 1. Repeat the process until you reach 1"
   ]
  },
  {
   "cell_type": "code",
   "execution_count": 63,
   "id": "3b077618",
   "metadata": {},
   "outputs": [
    {
     "name": "stdout",
     "output_type": "stream",
     "text": [
      "entr a positive integer: 3\n",
      "3 10 5 16 8 4 2 1\n"
     ]
    }
   ],
   "source": [
    "def sequence(num):\n",
    "    while num != 1:\n",
    "        print(num, end=' ')\n",
    "        if num % 2 == 0:\n",
    "            num //= 2\n",
    "        else:\n",
    "            num = 3 * num + 1\n",
    "    print(1)\n",
    "\n",
    "try:\n",
    "    num = int(input(\"entr a positive integer: \"))\n",
    "    if num <= 0:\n",
    "        print(\"entr a positive integer.\")\n",
    "    else:\n",
    "        sequence(num)\n",
    "except ValueError:\n",
    "    print(\"error enter a positive integer.\")"
   ]
  },
  {
   "cell_type": "markdown",
   "id": "6f46698c",
   "metadata": {},
   "source": [
    "# 4 Write a python program to compute the sum of all the multiple od 3 or 5 below 500."
   ]
  },
  {
   "cell_type": "code",
   "execution_count": 66,
   "id": "06c57c4d",
   "metadata": {},
   "outputs": [
    {
     "name": "stdout",
     "output_type": "stream",
     "text": [
      "3\n",
      "8\n",
      "14\n",
      "23\n",
      "33\n",
      "45\n",
      "60\n",
      "78\n",
      "98\n",
      "119\n",
      "143\n",
      "168\n",
      "195\n",
      "225\n",
      "258\n",
      "293\n",
      "329\n",
      "368\n",
      "408\n",
      "450\n",
      "495\n",
      "543\n",
      "593\n",
      "644\n",
      "698\n",
      "753\n",
      "810\n",
      "870\n",
      "933\n",
      "998\n",
      "1064\n",
      "1133\n",
      "1203\n",
      "1275\n",
      "1350\n",
      "1428\n",
      "1508\n",
      "1589\n",
      "1673\n",
      "1758\n",
      "1845\n",
      "1935\n",
      "2028\n",
      "2123\n",
      "2219\n",
      "2318\n",
      "2418\n",
      "2520\n",
      "2625\n",
      "2733\n",
      "2843\n",
      "2954\n",
      "3068\n",
      "3183\n",
      "3300\n",
      "3420\n",
      "3543\n",
      "3668\n",
      "3794\n",
      "3923\n",
      "4053\n",
      "4185\n",
      "4320\n",
      "4458\n",
      "4598\n",
      "4739\n",
      "4883\n",
      "5028\n",
      "5175\n",
      "5325\n",
      "5478\n",
      "5633\n",
      "5789\n",
      "5948\n",
      "6108\n",
      "6270\n",
      "6435\n",
      "6603\n",
      "6773\n",
      "6944\n",
      "7118\n",
      "7293\n",
      "7470\n",
      "7650\n",
      "7833\n",
      "8018\n",
      "8204\n",
      "8393\n",
      "8583\n",
      "8775\n",
      "8970\n",
      "9168\n",
      "9368\n",
      "9569\n",
      "9773\n",
      "9978\n",
      "10185\n",
      "10395\n",
      "10608\n",
      "10823\n",
      "11039\n",
      "11258\n",
      "11478\n",
      "11700\n",
      "11925\n",
      "12153\n",
      "12383\n",
      "12614\n",
      "12848\n",
      "13083\n",
      "13320\n",
      "13560\n",
      "13803\n",
      "14048\n",
      "14294\n",
      "14543\n",
      "14793\n",
      "15045\n",
      "15300\n",
      "15558\n",
      "15818\n",
      "16079\n",
      "16343\n",
      "16608\n",
      "16875\n",
      "17145\n",
      "17418\n",
      "17693\n",
      "17969\n",
      "18248\n",
      "18528\n",
      "18810\n",
      "19095\n",
      "19383\n",
      "19673\n",
      "19964\n",
      "20258\n",
      "20553\n",
      "20850\n",
      "21150\n",
      "21453\n",
      "21758\n",
      "22064\n",
      "22373\n",
      "22683\n",
      "22995\n",
      "23310\n",
      "23628\n",
      "23948\n",
      "24269\n",
      "24593\n",
      "24918\n",
      "25245\n",
      "25575\n",
      "25908\n",
      "26243\n",
      "26579\n",
      "26918\n",
      "27258\n",
      "27600\n",
      "27945\n",
      "28293\n",
      "28643\n",
      "28994\n",
      "29348\n",
      "29703\n",
      "30060\n",
      "30420\n",
      "30783\n",
      "31148\n",
      "31514\n",
      "31883\n",
      "32253\n",
      "32625\n",
      "33000\n",
      "33378\n",
      "33758\n",
      "34139\n",
      "34523\n",
      "34908\n",
      "35295\n",
      "35685\n",
      "36078\n",
      "36473\n",
      "36869\n",
      "37268\n",
      "37668\n",
      "38070\n",
      "38475\n",
      "38883\n",
      "39293\n",
      "39704\n",
      "40118\n",
      "40533\n",
      "40950\n",
      "41370\n",
      "41793\n",
      "42218\n",
      "42644\n",
      "43073\n",
      "43503\n",
      "43935\n",
      "44370\n",
      "44808\n",
      "45248\n",
      "45689\n",
      "46133\n",
      "46578\n",
      "47025\n",
      "47475\n",
      "47928\n",
      "48383\n",
      "48839\n",
      "49298\n",
      "49758\n",
      "50220\n",
      "50685\n",
      "51153\n",
      "51623\n",
      "52094\n",
      "52568\n",
      "53043\n",
      "53520\n",
      "54000\n",
      "54483\n",
      "54968\n",
      "55454\n",
      "55943\n",
      "56433\n",
      "56925\n",
      "57420\n",
      "57918\n"
     ]
    }
   ],
   "source": [
    "total_sum = 0\n",
    "for num in range(1, 500):\n",
    "    if num % 3 == 0 or num % 5 == 0:\n",
    "        total_sum += num\n",
    "        print(total_sum)"
   ]
  },
  {
   "cell_type": "markdown",
   "id": "194b3cb0",
   "metadata": {},
   "source": [
    "# 5)To Find the first N prime no's from a list of given numbers."
   ]
  },
  {
   "cell_type": "code",
   "execution_count": 67,
   "id": "ef8a554b",
   "metadata": {},
   "outputs": [
    {
     "name": "stdout",
     "output_type": "stream",
     "text": [
      "[2, 3, 5, 7, 11]\n"
     ]
    }
   ],
   "source": [
    "def is_prime(num):\n",
    "    if num <= 1:\n",
    "        return False\n",
    "    if num == 2:\n",
    "        return True\n",
    "    if num % 2 == 0:\n",
    "        return False\n",
    "\n",
    "    for i in range(3, int(num**0.5) + 1, 2):\n",
    "        if num % i == 0:\n",
    "            return False\n",
    "\n",
    "    return True\n",
    "\n",
    "def find_first_n_primes(numbers, n):\n",
    "    prime_numbers = []\n",
    "    for num in numbers:\n",
    "        if is_prime(num):\n",
    "            prime_numbers.append(num)\n",
    "            if len(prime_numbers) == n:\n",
    "                break\n",
    "    return prime_numbers\n",
    "\n",
    "\n",
    "given_numbers = [2, 3, 4, 5, 6, 7, 8, 9, 10, 11]  \n",
    "n = 5 \n",
    "\n",
    "prime_list = find_first_n_primes(given_numbers, n)\n",
    "print(prime_list)"
   ]
  },
  {
   "cell_type": "markdown",
   "id": "70cb5f86",
   "metadata": {},
   "source": [
    "# 6 To comute matrix Multiplication"
   ]
  },
  {
   "cell_type": "code",
   "execution_count": 69,
   "id": "75eb41f2",
   "metadata": {},
   "outputs": [
    {
     "name": "stdout",
     "output_type": "stream",
     "text": [
      "rsult of matrix multiplication:\n",
      "[510, 368]\n",
      "[183, 233]\n"
     ]
    }
   ],
   "source": [
    "def matrix_multiply(matrixA, matrixB):\n",
    "    if len(matrixA[0]) != len(matrixB):\n",
    "        return \"error dimensions\"\n",
    "    result = [[0 for _ in range(len(matrixB[0]))] for _ in range(len(matrixA))]\n",
    "\n",
    "    for i in range(len(matrixA)):\n",
    "        for j in range(len(matrixB[0])):\n",
    "            for k in range(len(matrixB)):\n",
    "                result[i][j] += matrixA[i][k] * matrixB[k][j]\n",
    "    return result\n",
    "matrix_1 = [[19, 9, 6], [3, 2, 9]]\n",
    "matrix_2 = [[12, 8], [24, 10], [11, 21]]\n",
    "\n",
    "result_matrix = matrix_multiply(matrix_1, matrix_2)\n",
    "if isinstance(result_matrix, str):\n",
    "    print(result_matrix)\n",
    "else:\n",
    "    print(\"rsult of matrix multiplication:\")\n",
    "    for row in result_matrix:\n",
    "        print(row)"
   ]
  },
  {
   "cell_type": "markdown",
   "id": "34661974",
   "metadata": {},
   "source": [
    "# 7 To count no of vowels in string"
   ]
  },
  {
   "cell_type": "code",
   "execution_count": 3,
   "id": "ffd1475b",
   "metadata": {},
   "outputs": [
    {
     "name": "stdout",
     "output_type": "stream",
     "text": [
      "Enter string:Rishabh\n",
      "Number of vowels are:\n",
      "2\n"
     ]
    }
   ],
   "source": [
    "string=input(\"Enter string:\")\n",
    "vowels=0\n",
    "for i in string:\n",
    "      if(i=='a' or i=='e' or i=='i' or i=='o' or i=='u' or i=='A' or i=='E' or i=='I' or i=='O' or i=='U'):\n",
    "            vowels=vowels+1\n",
    "print(\"Number of vowels are:\")\n",
    "print(vowels)"
   ]
  },
  {
   "cell_type": "markdown",
   "id": "ad1c7c30",
   "metadata": {},
   "source": [
    "# 8.write a python function for finding factorial for the given number using a recursive function"
   ]
  },
  {
   "cell_type": "code",
   "execution_count": 4,
   "id": "bf79cdc5",
   "metadata": {},
   "outputs": [
    {
     "name": "stdout",
     "output_type": "stream",
     "text": [
      "Enter a number: 5\n",
      "The factorial of 5 is 120\n"
     ]
    }
   ],
   "source": [
    "def recur_factorial(n):  \n",
    "   if n == 1:  \n",
    "       return n  \n",
    "   else:  \n",
    "       return n*recur_factorial(n-1)   \n",
    "num = int(input(\"Enter a number: \"))  \n",
    " \n",
    "if num < 0:  \n",
    "   print(\"Sorry, factorial does not exist for negative numbers\")  \n",
    "elif num == 0:  \n",
    "   print(\"The factorial of 0 is 1\")  \n",
    "else:  \n",
    "   print(\"The factorial of\",num,\"is\",recur_factorial(num))  "
   ]
  },
  {
   "cell_type": "markdown",
   "id": "38e852c3",
   "metadata": {},
   "source": [
    "# 9.write a Python function for generating the Fibonacci series using the function"
   ]
  },
  {
   "cell_type": "code",
   "execution_count": 5,
   "id": "700b8783",
   "metadata": {},
   "outputs": [
    {
     "name": "stdout",
     "output_type": "stream",
     "text": [
      "Enter the Range Number: 5\n",
      "0\n",
      "1\n",
      "1\n",
      "2\n",
      "3\n"
     ]
    }
   ],
   "source": [
    "def Fibonacci(number):\n",
    "           if(number == 0):\n",
    "                      return 0\n",
    "           elif(number == 1):\n",
    "                      return 1\n",
    "           else:\n",
    "                      return (Fibonacci(number - 2)+ Fibonacci(number - 1))\n",
    "number = int(input(\"Enter the Range Number: \"))\n",
    "for n in range(0, number):\n",
    "           print(Fibonacci(n))"
   ]
  },
  {
   "cell_type": "markdown",
   "id": "8a7a0f20",
   "metadata": {},
   "source": [
    "# 10. Python program to display the given integer in reverse order using the function without an inbuilt function"
   ]
  },
  {
   "cell_type": "code",
   "execution_count": 6,
   "id": "53f99c4b",
   "metadata": {},
   "outputs": [
    {
     "name": "stdout",
     "output_type": "stream",
     "text": [
      "Reversed Number: 4321\n"
     ]
    }
   ],
   "source": [
    "num = 1234\n",
    "reversed_num = 0\n",
    "\n",
    "while num != 0:\n",
    "    digit = num % 10\n",
    "    reversed_num = reversed_num * 10 + digit\n",
    "    num //= 10\n",
    "\n",
    "print(\"Reversed Number: \" + str(reversed_num))"
   ]
  },
  {
   "cell_type": "markdown",
   "id": "34a358dc",
   "metadata": {},
   "source": [
    "# 11.write a Python function to display all integer within the range 200 to 300 whose sum of digit is an even number"
   ]
  },
  {
   "cell_type": "code",
   "execution_count": 7,
   "id": "5f81efd2",
   "metadata": {},
   "outputs": [
    {
     "name": "stdout",
     "output_type": "stream",
     "text": [
      "All Integers Within The Range 200-300 Whose Sum Of Digits Is An Even Number is = ['200', '202', '204', '206', '208', '211', '213', '215', '217', '219', '220', '222', '224', '226', '228', '231', '233', '235', '237', '239', '240', '242', '244', '246', '248', '251', '253', '255', '257', '259', '260', '262', '264', '266', '268', '271', '273', '275', '277', '279', '280', '282', '284', '286', '288', '291', '293', '295', '297', '299']\n"
     ]
    }
   ],
   "source": [
    "list=[]                   \n",
    "for i in range(200,300): \n",
    "    i=str(i)              \n",
    "    sum=0                 \n",
    "    for j in i:           \n",
    "        j=int(j)          \n",
    "        sum=sum+j         \n",
    "    if sum%2==0:          \n",
    "        list.append(i)    \n",
    "print('All Integers Within The Range 200-300 Whose Sum Of Digits Is An Even Number is =',list)"
   ]
  },
  {
   "cell_type": "markdown",
   "id": "0999b16a",
   "metadata": {},
   "source": [
    "# 12. write a Python function to find the number of digits and sum of digits for a given integer"
   ]
  },
  {
   "cell_type": "code",
   "execution_count": 11,
   "id": "1d245311",
   "metadata": {},
   "outputs": [
    {
     "name": "stdout",
     "output_type": "stream",
     "text": [
      "15\n"
     ]
    }
   ],
   "source": [
    "def getSum(n):\n",
    "    \n",
    "    sum = 0\n",
    "    while (n != 0):\n",
    "       \n",
    "        sum = sum + (n % 10)\n",
    "        n = n//10\n",
    "       \n",
    "    return sum\n",
    "   \n",
    "n = 12345\n",
    "print(getSum(n))"
   ]
  },
  {
   "cell_type": "markdown",
   "id": "d6510085",
   "metadata": {},
   "source": [
    "# 13.write function called a sorted that take a list as a parameter and return true if the list is taught in ascending order and false otherwise has duplicate that takes a list and return true if there is any element that appear more than once"
   ]
  },
  {
   "cell_type": "code",
   "execution_count": 18,
   "id": "6fa282fb",
   "metadata": {},
   "outputs": [
    {
     "name": "stdout",
     "output_type": "stream",
     "text": [
      "8 3\n",
      "3 1\n",
      "1 4\n",
      "True\n"
     ]
    }
   ],
   "source": [
    "def is_sorted(a):\n",
    "    for i in range(len(a)-1):\n",
    "        print(a[i], a[i+1])\n",
    "        if a[i]<=a[i+1]:\n",
    "            return True\n",
    "    return False\n",
    " \n",
    "print(is_sorted([8,3,1,4,0,5,6]))"
   ]
  },
  {
   "cell_type": "markdown",
   "id": "bcbc7480",
   "metadata": {},
   "source": [
    "# 14.write function called nested some that take a list of integer and add of the element from all the nested list and come some that takes a list of numbers and return the cumulative sum that is a new list where the i element is the sum of the first i+1 elements from the original list"
   ]
  },
  {
   "cell_type": "code",
   "execution_count": 20,
   "id": "8066c4d6",
   "metadata": {},
   "outputs": [
    {
     "name": "stdout",
     "output_type": "stream",
     "text": [
      "Sum is: 15\n"
     ]
    }
   ],
   "source": [
    "def sum1(lst):\n",
    "    total = 0\n",
    "    for element in lst:\n",
    "        if (type(element) == type([])):\n",
    "            total = total + sum1(element)\n",
    "        else:\n",
    "            total = total + element\n",
    "    return total\n",
    "print( \"Sum is:\",sum1([[3,5],[3,4]]))"
   ]
  },
  {
   "cell_type": "code",
   "execution_count": null,
   "id": "90e3558e",
   "metadata": {},
   "outputs": [],
   "source": []
  }
 ],
 "metadata": {
  "kernelspec": {
   "display_name": "Python 3 (ipykernel)",
   "language": "python",
   "name": "python3"
  },
  "language_info": {
   "codemirror_mode": {
    "name": "ipython",
    "version": 3
   },
   "file_extension": ".py",
   "mimetype": "text/x-python",
   "name": "python",
   "nbconvert_exporter": "python",
   "pygments_lexer": "ipython3",
   "version": "3.11.4"
  }
 },
 "nbformat": 4,
 "nbformat_minor": 5
}
