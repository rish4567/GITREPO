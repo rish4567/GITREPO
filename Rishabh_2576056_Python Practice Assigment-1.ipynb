{
 "cells": [
  {
   "cell_type": "markdown",
   "id": "dd43be2b",
   "metadata": {},
   "source": [
    "# 1. Manipulate using a list.\n",
    "i) add new element to the end of list\n",
    "ii) to reverse the element in the list\n",
    "iii) to display the same list of element multiple times\n",
    "iv) to concatenate two list\n",
    "v) To sort the elemnts in the list in ascending order"
   ]
  },
  {
   "cell_type": "markdown",
   "id": "8e7dbf7d",
   "metadata": {},
   "source": [
    "1.(i) add new element to the end of list \n"
   ]
  },
  {
   "cell_type": "code",
   "execution_count": 1,
   "id": "1960b1cf",
   "metadata": {},
   "outputs": [
    {
     "name": "stdout",
     "output_type": "stream",
     "text": [
      "[22, 45, 67, 'AAAA', 5555]\n"
     ]
    }
   ],
   "source": [
    "lst = [22, 45, 67, 'AAAA']\n",
    "lst.append(5555)\n",
    "print(lst)"
   ]
  },
  {
   "cell_type": "markdown",
   "id": "541b5c37",
   "metadata": {},
   "source": [
    " 1.(ii) to reverse the element in the list "
   ]
  },
  {
   "cell_type": "code",
   "execution_count": 2,
   "id": "ccfd0b0e",
   "metadata": {},
   "outputs": [
    {
     "name": "stdout",
     "output_type": "stream",
     "text": [
      "[5555, 'AAAA', 67, 45, 22]\n"
     ]
    }
   ],
   "source": [
    "lst.reverse()\n",
    "print(lst)"
   ]
  },
  {
   "cell_type": "markdown",
   "id": "b7e43d48",
   "metadata": {},
   "source": [
    " 1.(iii) to display the same list of element multiple times"
   ]
  },
  {
   "cell_type": "code",
   "execution_count": 3,
   "id": "bf44717b",
   "metadata": {},
   "outputs": [
    {
     "name": "stdout",
     "output_type": "stream",
     "text": [
      "[22, 45, 67, 'AAAA', 22, 45, 67, 'AAAA', 22, 45, 67, 'AAAA', 22, 45, 67, 'AAAA', 22, 45, 67, 'AAAA']\n"
     ]
    }
   ],
   "source": [
    "lst = [22, 45, 67, 'AAAA']\n",
    "repeated_value = 5*lst\n",
    "print(repeated_value)"
   ]
  },
  {
   "cell_type": "markdown",
   "id": "436ea0a6",
   "metadata": {},
   "source": [
    " 1.(iv) to concatenate two list"
   ]
  },
  {
   "cell_type": "code",
   "execution_count": 4,
   "id": "d72847fe",
   "metadata": {},
   "outputs": [
    {
     "name": "stdout",
     "output_type": "stream",
     "text": [
      "Concatenated list: [1, 4, 5, 6, 5, 3, 5, 9, 2, 6]\n"
     ]
    }
   ],
   "source": [
    "list1 = [1, 4, 5, 6, 5]\n",
    "list2 = [3, 5, 9, 2, 6]\n",
    " \n",
    "# using concatenate method to concat\n",
    "for i in list2 :\n",
    "    list1.append(i)\n",
    " \n",
    "\n",
    "print (\"Concatenated list: \" + str(list1))"
   ]
  },
  {
   "cell_type": "markdown",
   "id": "d05b9804",
   "metadata": {},
   "source": [
    "1.(v)To sort the elemnts in the list in ascending order"
   ]
  },
  {
   "cell_type": "code",
   "execution_count": 5,
   "id": "46b3bc2b",
   "metadata": {},
   "outputs": [
    {
     "name": "stdout",
     "output_type": "stream",
     "text": [
      "[3, 7, 8, 10, 11, 22, 33, 54, 100]\n"
     ]
    }
   ],
   "source": [
    "list = [10, 8, 3, 22, 33, 7, 11, 100, 54]\n",
    "\n",
    "#sort list in-place in ascending order\n",
    "list.sort()\n",
    "print(list)"
   ]
  },
  {
   "cell_type": "raw",
   "id": "b35e299b",
   "metadata": {},
   "source": []
  },
  {
   "cell_type": "markdown",
   "id": "28f632a5",
   "metadata": {},
   "source": [
    "# 2.Write a Program to do in tuple.\n",
    "(i) Manipulate using tuples\n",
    "(ii) To add new element in the end of the tuples\n",
    "(iii) To reverse the element in the list\n",
    "(iv) To display the elements of the same tuples multiple times\n",
    "(v) To concatenate two tuples\n",
    "(vi) To sort the elements in asscending order"
   ]
  },
  {
   "cell_type": "markdown",
   "id": "f1294255",
   "metadata": {},
   "source": [
    "(i) Manipulate using tuples "
   ]
  },
  {
   "cell_type": "code",
   "execution_count": 7,
   "id": "e476b16a",
   "metadata": {},
   "outputs": [
    {
     "name": "stdout",
     "output_type": "stream",
     "text": [
      "('Pakistan', 'Afghanistan', 'Bangladesh', 'ShriLanka', 'Vietnam', 'India', 'China')\n"
     ]
    }
   ],
   "source": [
    "countries1 = (\"Pakistan\", \"Afghanistan\", \"Bangladesh\", \"ShriLanka\")\n",
    "countries2 = (\"Vietnam\", \"India\", \"China\")\n",
    "southEastAsia = countries1 + countries2\n",
    "print(southEastAsia)"
   ]
  },
  {
   "cell_type": "markdown",
   "id": "3b2a52df",
   "metadata": {},
   "source": [
    "(ii) To add new element in the end of the tuples"
   ]
  },
  {
   "cell_type": "code",
   "execution_count": 8,
   "id": "b9416009",
   "metadata": {},
   "outputs": [
    {
     "name": "stdout",
     "output_type": "stream",
     "text": [
      "(2, 5, 8, 8, 16, 67)\n"
     ]
    }
   ],
   "source": [
    "s=(2,5,8)\n",
    "s_append = s + (8, 16, 67)\n",
    "print(s_append)"
   ]
  },
  {
   "cell_type": "markdown",
   "id": "6973ba79",
   "metadata": {},
   "source": [
    "(iii) To reverse the element in the list "
   ]
  },
  {
   "cell_type": "code",
   "execution_count": 9,
   "id": "990a2f25",
   "metadata": {},
   "outputs": [
    {
     "name": "stdout",
     "output_type": "stream",
     "text": [
      "<class 'list_reverseiterator'>\n",
      "5\n",
      "4\n",
      "3\n",
      "2\n",
      "1\n"
     ]
    }
   ],
   "source": [
    "l = [1, 2, 3, 4, 5]\n",
    "\n",
    "print(type(reversed(l)))   #using in built function (reverse)\n",
    "for i in reversed(l):\n",
    "    print(i)"
   ]
  },
  {
   "cell_type": "markdown",
   "id": "e6270c75",
   "metadata": {},
   "source": [
    "(iv) To display the elements of the same tuples multiple times"
   ]
  },
  {
   "cell_type": "code",
   "execution_count": 12,
   "id": "d3ac49c3",
   "metadata": {},
   "outputs": [
    {
     "name": "stdout",
     "output_type": "stream",
     "text": [
      "The original tuple : ('Rishabh', 'Messi')\n",
      "The same multiple tuple elements are : (('Rishabh', 'Messi'), ('Rishabh', 'Messi'), ('Rishabh', 'Messi'), ('Rishabh', 'Messi'))\n"
     ]
    }
   ],
   "source": [
    "test_tup = (\"Rishabh\", \"Messi\")\n",
    " \n",
    "print(\"The original tuple : \" + str(test_tup))\n",
    " \n",
    "N = 4\n",
    "\n",
    "# Repeating tuples N times\n",
    "# using * operator\n",
    "res = ((test_tup, ) * N)\n",
    " \n",
    "# printing result\n",
    "print(\"The same multiple tuple elements are : \" + str(res))"
   ]
  },
  {
   "cell_type": "markdown",
   "id": "eef22958",
   "metadata": {},
   "source": [
    "(v) To concatenate two tuples "
   ]
  },
  {
   "cell_type": "code",
   "execution_count": 14,
   "id": "342cd8af",
   "metadata": {},
   "outputs": [
    {
     "name": "stdout",
     "output_type": "stream",
     "text": [
      "The original tuple 1 : (1, 45, 5)\n",
      "The original tuple 2 : (4, 78)\n",
      "The tuple after concatenation is : (1, 45, 5, 4, 78)\n"
     ]
    }
   ],
   "source": [
    "tup1 = (1, 45, 5)\n",
    "tup2 = (4, 78)\n",
    "print(\"The original tuple 1 : \" + str(tup1))\n",
    "print(\"The original tuple 2 : \" + str(tup2))\n",
    " \n",
    "result = tup1 + tup2\n",
    "\n",
    "print(\"The tuple after concatenation is : \" + str(result))"
   ]
  },
  {
   "cell_type": "markdown",
   "id": "9622e0a3",
   "metadata": {},
   "source": [
    "(vi) To sort the elements in asscending order"
   ]
  },
  {
   "cell_type": "code",
   "execution_count": 15,
   "id": "e95ae3f0",
   "metadata": {},
   "outputs": [
    {
     "name": "stdout",
     "output_type": "stream",
     "text": [
      "Sorted Tuple : (1, 2, 3, 5, 6, 7, 24)\n",
      "<class 'tuple'>\n"
     ]
    }
   ],
   "source": [
    "tuple_ = (5, 2, 24, 3, 1, 6, 7)  \n",
    "sorted_ = tuple(sorted(tuple_))  \n",
    "print('Sorted Tuple :', sorted_)  \n",
    "print(type(sorted_))  "
   ]
  },
  {
   "cell_type": "markdown",
   "id": "3ddd8505",
   "metadata": {},
   "source": [
    "# 3. Write a python program to implement the following using list\n",
    "I . Create a list with integer(minimum 10 numbers)\n",
    "\n",
    "II. How to display the last elements in the list\n",
    "\n",
    "III. Command to dsiplay the values from the list [0:4]\n",
    "\n",
    "IV. Command to dsiplay the values from the list [2:]\n",
    "\n",
    "V. Command to dsiplay the values from the list [0:6]"
   ]
  },
  {
   "cell_type": "markdown",
   "id": "8c614730",
   "metadata": {},
   "source": [
    "Create a list with integer(minimum 10 numbers)"
   ]
  },
  {
   "cell_type": "code",
   "execution_count": 52,
   "id": "fcccbf3f",
   "metadata": {},
   "outputs": [
    {
     "name": "stdout",
     "output_type": "stream",
     "text": [
      "[0, 1, 2, 3, 4, 5, 6, 7, 8, 9, 10]\n"
     ]
    }
   ],
   "source": [
    "def createList(r1, r2):\n",
    "    return [item for item in range(r1, r2+1)]\n",
    "r1, r2 = 0, 10\n",
    "print(createList(r1, r2))"
   ]
  },
  {
   "cell_type": "markdown",
   "id": "69721462",
   "metadata": {},
   "source": [
    "How to display the last elements in the list"
   ]
  },
  {
   "cell_type": "code",
   "execution_count": 54,
   "id": "7b360402",
   "metadata": {},
   "outputs": [
    {
     "name": "stdout",
     "output_type": "stream",
     "text": [
      "Input list: [0, 1, 2, 3, 4, 5, 6, 7, 8, 9, 10]\n",
      "Last element of the input list =  10\n"
     ]
    }
   ],
   "source": [
    "inputList = [0, 1, 2, 3, 4, 5, 6, 7, 8, 9, 10]\n",
    "print(\"Input list:\", inputList)\n",
    "lastElement = inputList[-1:][0]\n",
    "print(\"Last element of the input list = \", lastElement)"
   ]
  },
  {
   "cell_type": "markdown",
   "id": "730b7ddc",
   "metadata": {},
   "source": [
    " Command to dsiplay the values from the list [0:4]"
   ]
  },
  {
   "cell_type": "code",
   "execution_count": 55,
   "id": "08a2499e",
   "metadata": {},
   "outputs": [
    {
     "name": "stdout",
     "output_type": "stream",
     "text": [
      "Input list: [0, 1, 2, 3, 4, 5, 6, 7, 8, 9, 10]\n",
      "Display Value =  [0, 1, 2, 3]\n"
     ]
    }
   ],
   "source": [
    "inputList = [0, 1, 2, 3, 4, 5, 6, 7, 8, 9, 10]\n",
    "print(\"Input list:\", inputList)\n",
    "Element = inputList[0:4]\n",
    "print(\"Display Value = \", Element)"
   ]
  },
  {
   "cell_type": "markdown",
   "id": "aec41a09",
   "metadata": {},
   "source": [
    "Command to dsiplay the values from the list [0:6]"
   ]
  },
  {
   "cell_type": "code",
   "execution_count": 56,
   "id": "589ac4a5",
   "metadata": {},
   "outputs": [
    {
     "name": "stdout",
     "output_type": "stream",
     "text": [
      "Input list: [0, 1, 2, 3, 4, 5, 6, 7, 8, 9, 10]\n",
      "Display Value =  [0, 1, 2, 3, 4, 5]\n"
     ]
    }
   ],
   "source": [
    "inputList = [0, 1, 2, 3, 4, 5, 6, 7, 8, 9, 10]\n",
    "print(\"Input list:\", inputList)\n",
    "Element = inputList[0:6]\n",
    "print(\"Display Value = \", Element)"
   ]
  },
  {
   "cell_type": "markdown",
   "id": "9884f528",
   "metadata": {},
   "source": [
    "Command to dsiplay the values from the list [2:]"
   ]
  },
  {
   "cell_type": "code",
   "execution_count": 57,
   "id": "91d242b9",
   "metadata": {},
   "outputs": [
    {
     "name": "stdout",
     "output_type": "stream",
     "text": [
      "Input list: [0, 1, 2, 3, 4, 5, 6, 7, 8, 9, 10]\n",
      "Display Value =  [2, 3, 4, 5, 6, 7, 8, 9, 10]\n"
     ]
    }
   ],
   "source": [
    "inputList = [0, 1, 2, 3, 4, 5, 6, 7, 8, 9, 10]\n",
    "print(\"Input list:\", inputList)\n",
    "Element = inputList[2:]\n",
    "print(\"Display Value = \", Element)"
   ]
  },
  {
   "cell_type": "markdown",
   "id": "3160707b",
   "metadata": {},
   "source": [
    "# 4.Write a python program: tuple1=(10,50,20,40,30)\n",
    "I. To display element 10 and 50 from tuple1\n",
    "II.\tTo display the length of a tuple1\n",
    "III.To find the minimum element from tuple\n",
    "Iv.\tTo add all elements In the tuplel.\n",
    "v.\tTo display the Same tuple multiple times."
   ]
  },
  {
   "cell_type": "markdown",
   "id": "b118d257",
   "metadata": {},
   "source": [
    "I. To display element 10 and 50 from tuple1"
   ]
  },
  {
   "cell_type": "code",
   "execution_count": 16,
   "id": "9c4bacee",
   "metadata": {},
   "outputs": [
    {
     "name": "stdout",
     "output_type": "stream",
     "text": [
      "(10, 50, 20, 40, 30)\n"
     ]
    }
   ],
   "source": [
    "tuple1 = (10,50,20,40,30)  \n",
    "\n",
    "print(tuple1)"
   ]
  },
  {
   "cell_type": "markdown",
   "id": "5406b63b",
   "metadata": {},
   "source": [
    "II. To display the length of a tuple1 "
   ]
  },
  {
   "cell_type": "code",
   "execution_count": 17,
   "id": "71262c06",
   "metadata": {},
   "outputs": [
    {
     "name": "stdout",
     "output_type": "stream",
     "text": [
      "5\n"
     ]
    }
   ],
   "source": [
    "tuple1 = (10,50,20,40,30)  \n",
    "\n",
    "print(len(tuple1))"
   ]
  },
  {
   "cell_type": "markdown",
   "id": "3a7bd698",
   "metadata": {},
   "source": [
    "III.To find the minimum element from tuple "
   ]
  },
  {
   "cell_type": "code",
   "execution_count": 18,
   "id": "030ffe0b",
   "metadata": {},
   "outputs": [
    {
     "name": "stdout",
     "output_type": "stream",
     "text": [
      "Minimum element is: 10\n"
     ]
    }
   ],
   "source": [
    "tuple1 = [10,50,20,40,30]  \n",
    "\n",
    "print(\"Minimum element is:\", min(tuple1))"
   ]
  },
  {
   "cell_type": "markdown",
   "id": "1726c9fa",
   "metadata": {},
   "source": [
    "Iv. To add all elements In the tuplel."
   ]
  },
  {
   "cell_type": "code",
   "execution_count": 21,
   "id": "5b3840ce",
   "metadata": {},
   "outputs": [
    {
     "name": "stdout",
     "output_type": "stream",
     "text": [
      "150\n"
     ]
    }
   ],
   "source": [
    "tuple1= [10,50,20,40,30]\n",
    "\n",
    "Sum = sum(tuple1)  \n",
    "\n",
    "print(Sum)"
   ]
  },
  {
   "cell_type": "markdown",
   "id": "d984ad2b",
   "metadata": {},
   "source": [
    "v. To display the Same tuple multiple times."
   ]
  },
  {
   "cell_type": "code",
   "execution_count": 22,
   "id": "aa573fd7",
   "metadata": {},
   "outputs": [
    {
     "name": "stdout",
     "output_type": "stream",
     "text": [
      "The original tuple : [10, 50, 20, 40, 30]\n",
      "The same tuple elements are : ([10, 50, 20, 40, 30], [10, 50, 20, 40, 30], [10, 50, 20, 40, 30], [10, 50, 20, 40, 30])\n"
     ]
    }
   ],
   "source": [
    "tuple1 = [10,50,20,40,30] \n",
    "print(\"The original tuple : \" + str(tuple1))\n",
    "N = 4\n",
    "res = ((tuple1, ) * N)\n",
    "print(\"The same tuple elements are : \" + str(res))"
   ]
  },
  {
   "cell_type": "markdown",
   "id": "33f91ac3",
   "metadata": {},
   "source": [
    "# 5.Write a Python program\n",
    "\n",
    "I.To calculate the length of a string\n",
    "\n",
    "II.\tTo reverse words In a string\n",
    "\n",
    "III.To display the same string multiple times \n",
    "\n",
    "IV.\tTo concatenate two strings\n",
    "\n",
    "v.\tStr1=H South India\",using string slicing to display \"India\""
   ]
  },
  {
   "cell_type": "markdown",
   "id": "1ba15239",
   "metadata": {},
   "source": [
    "I.To calculate the length of a string"
   ]
  },
  {
   "cell_type": "code",
   "execution_count": 24,
   "id": "327ae935",
   "metadata": {},
   "outputs": [
    {
     "name": "stdout",
     "output_type": "stream",
     "text": [
      "9\n"
     ]
    }
   ],
   "source": [
    "counter = 0\n",
    "for c in \"educative\":\n",
    "    counter+=1 \n",
    "print (counter) "
   ]
  },
  {
   "cell_type": "markdown",
   "id": "63088832",
   "metadata": {},
   "source": [
    "II. To reverse words In a string"
   ]
  },
  {
   "cell_type": "code",
   "execution_count": 25,
   "id": "1213d6e3",
   "metadata": {},
   "outputs": [
    {
     "name": "stdout",
     "output_type": "stream",
     "text": [
      "Enter any string: Rishabh Kumar Singh\n",
      "Singh Kumar Rishabh\n"
     ]
    }
   ],
   "source": [
    "x = input(\"Enter any string: \")\n",
    "a = x.split()\n",
    "a.reverse()\n",
    "print(' '.join(a))"
   ]
  },
  {
   "cell_type": "markdown",
   "id": "bb6652fd",
   "metadata": {},
   "source": [
    "III. To display the same string multiple times"
   ]
  },
  {
   "cell_type": "code",
   "execution_count": 26,
   "id": "6ecad8ee",
   "metadata": {},
   "outputs": [
    {
     "name": "stdout",
     "output_type": "stream",
     "text": [
      "Wash. Rinse. Repeat!\tWash. Rinse. Repeat!\tWash. Rinse. Repeat!\tWash. Rinse. Repeat!\t\n"
     ]
    }
   ],
   "source": [
    "saying = 'Wash. Rinse. Repeat!\\t'\n",
    "print(saying * 4)"
   ]
  },
  {
   "cell_type": "markdown",
   "id": "919e5455",
   "metadata": {},
   "source": [
    "IV.To concatenate two strings"
   ]
  },
  {
   "cell_type": "code",
   "execution_count": 27,
   "id": "19b15f17",
   "metadata": {},
   "outputs": [
    {
     "name": "stdout",
     "output_type": "stream",
     "text": [
      "String 1: Hello\n",
      "String 2: World\n",
      "Concatenated two strings: HelloWorld\n"
     ]
    }
   ],
   "source": [
    "str1=\"Hello\"\n",
    "str2=\"World\"\n",
    "print (\"String 1:\",str1)\n",
    "print (\"String 2:\",str2)\n",
    "str=str1+str2\n",
    "print(\"Concatenated two strings:\",str)"
   ]
  },
  {
   "cell_type": "markdown",
   "id": "e2718bf5",
   "metadata": {},
   "source": [
    "V. Str1=H South India\",using string slicing to display \"India\""
   ]
  },
  {
   "cell_type": "code",
   "execution_count": 51,
   "id": "84fd5aa0",
   "metadata": {},
   "outputs": [
    {
     "name": "stdout",
     "output_type": "stream",
     "text": [
      " India\n"
     ]
    }
   ],
   "source": [
    "S1= 'H South India'\n",
    "print(S1[7:])\n"
   ]
  },
  {
   "cell_type": "markdown",
   "id": "1deb0743",
   "metadata": {},
   "source": [
    "# 6Perform the following:\n",
    "I)Creating the Dictionary\n",
    "\n",
    "II)\tAccessing values and keys In the Dictionary.\n",
    "\n",
    "III)Updating the dictionary using a function\n",
    "\n",
    "IV)\tClear and delete the dictionary values"
   ]
  },
  {
   "cell_type": "markdown",
   "id": "aca9e2e3",
   "metadata": {},
   "source": [
    "Creating the Dictionary"
   ]
  },
  {
   "cell_type": "code",
   "execution_count": 1,
   "id": "80907ddf",
   "metadata": {},
   "outputs": [
    {
     "name": "stdout",
     "output_type": "stream",
     "text": [
      "{1: 'Rishabh', 2: 'Kumar', 3: 'Singh'}\n"
     ]
    }
   ],
   "source": [
    "Dict = {1: 'Rishabh', 2: 'Kumar', 3: 'Singh'}\n",
    "print(Dict)"
   ]
  },
  {
   "cell_type": "markdown",
   "id": "0279d318",
   "metadata": {},
   "source": [
    "Accessing values and keys In the Dictionary."
   ]
  },
  {
   "cell_type": "code",
   "execution_count": 5,
   "id": "a5672750",
   "metadata": {},
   "outputs": [
    {
     "name": "stdout",
     "output_type": "stream",
     "text": [
      "Original dictionary is : {1: 'Rishabh', 2: 'Kumar', 3: 'Singh'}\n",
      "Dict key-value are : \n",
      "1 Rishabh\n",
      "2 Kumar\n",
      "3 Singh\n"
     ]
    }
   ],
   "source": [
    "Dict = {1: 'Rishabh', 2: 'Kumar', 3: 'Singh'}\n",
    "print(\"Original dictionary is : \" + str(Dict))\n",
    "print(\"Dict key-value are : \")\n",
    "for i in Dict:\n",
    "    print(i, Dict[i])"
   ]
  },
  {
   "cell_type": "markdown",
   "id": "f063c1b6",
   "metadata": {},
   "source": [
    "Updating the dictionary using a function"
   ]
  },
  {
   "cell_type": "code",
   "execution_count": 6,
   "id": "6b53ac02",
   "metadata": {},
   "outputs": [
    {
     "name": "stdout",
     "output_type": "stream",
     "text": [
      "{'brand': 'Ford', 'model': 'Mustang', 'year': 1964, 'color': 'White'}\n"
     ]
    }
   ],
   "source": [
    "car = { \"brand\": \"Ford\", \"model\": \"Mustang\", \"year\": 1964 }\n",
    "\n",
    "car.update({\"color\": \"White\"})\n",
    "\n",
    "print(car)"
   ]
  },
  {
   "cell_type": "markdown",
   "id": "7d79213f",
   "metadata": {},
   "source": [
    "Clear and delete the dictionary values"
   ]
  },
  {
   "cell_type": "code",
   "execution_count": 10,
   "id": "21fa5340",
   "metadata": {},
   "outputs": [
    {
     "name": "stdout",
     "output_type": "stream",
     "text": [
      "{}\n"
     ]
    }
   ],
   "source": [
    "d = {1: 'Rishabh', 2: 'Kumar', 3: 'Singh'}\n",
    "\n",
    "d.clear()    #clear the values\n",
    "print(d)\n"
   ]
  },
  {
   "cell_type": "code",
   "execution_count": 15,
   "id": "5488485f",
   "metadata": {},
   "outputs": [
    {
     "name": "stdout",
     "output_type": "stream",
     "text": [
      "{'k1': 1, 'k3': 3}\n"
     ]
    }
   ],
   "source": [
    "d = {'k1': 1, 'k2': 2, 'k3': 3}\n",
    "\n",
    "del d['k2']\n",
    "print(d)"
   ]
  },
  {
   "cell_type": "markdown",
   "id": "62bb8cd8",
   "metadata": {},
   "source": [
    "# 7. Python program to insert a number to any position in a list"
   ]
  },
  {
   "cell_type": "code",
   "execution_count": 16,
   "id": "4d3eb467",
   "metadata": {},
   "outputs": [
    {
     "data": {
      "text/plain": [
       "[12, 52, 5000, 65, 84, 216, 15, 5, 255, 6, 824, 51, 4, 5]"
      ]
     },
     "execution_count": 16,
     "metadata": {},
     "output_type": "execute_result"
    }
   ],
   "source": [
    "def Positon(Num,Position):                    \n",
    "    list=[12,52,85,65,84,216,15,5,255,6,824,51,4,5]\n",
    "    list[Position-1]=Num                         \n",
    "    return list\n",
    "Positon(5000,3)"
   ]
  },
  {
   "cell_type": "markdown",
   "id": "498ac499",
   "metadata": {},
   "source": [
    "# 8 Python program to delete an element from a list by index "
   ]
  },
  {
   "cell_type": "code",
   "execution_count": 18,
   "id": "3f89afb7",
   "metadata": {},
   "outputs": [
    {
     "name": "stdout",
     "output_type": "stream",
     "text": [
      "List after deleting specified list item: ['Welcome', 'to', 'python']\n"
     ]
    }
   ],
   "source": [
    "inputList = [\"Welcome\", \"to\", \"python\", \"programming\"]\n",
    "givenIndex = 3\n",
    "del inputList[givenIndex]\n",
    "print(\"List after deleting specified list item:\", inputList)"
   ]
  },
  {
   "cell_type": "markdown",
   "id": "b13e1354",
   "metadata": {},
   "source": [
    "#  9. Write a program to display a no from 1 to 100"
   ]
  },
  {
   "cell_type": "code",
   "execution_count": 19,
   "id": "f98b7c2b",
   "metadata": {},
   "outputs": [
    {
     "name": "stdout",
     "output_type": "stream",
     "text": [
      "Enter a number : 100\n",
      "1 2 3 4 5 6 7 8 9 10 11 12 13 14 15 16 17 18 19 20 21 22 23 24 25 26 27 28 29 30 31 32 33 34 35 36 37 38 39 40 41 42 43 44 45 46 47 48 49 50 51 52 53 54 55 56 57 58 59 60 61 62 63 64 65 66 67 68 69 70 71 72 73 74 75 76 77 78 79 80 81 82 83 84 85 86 87 88 89 90 91 92 93 94 95 96 97 98 99 100 "
     ]
    }
   ],
   "source": [
    "n = int(input('Enter a number : '))\n",
    "i = 1\n",
    "while i <= n:\n",
    "    print(i, end=\" \")\n",
    "    i+=1"
   ]
  },
  {
   "cell_type": "markdown",
   "id": "27775fde",
   "metadata": {},
   "source": [
    "# 10. Write a Python program to find the sum of all items in a tuple"
   ]
  },
  {
   "cell_type": "code",
   "execution_count": 20,
   "id": "a1e2eddb",
   "metadata": {},
   "outputs": [
    {
     "name": "stdout",
     "output_type": "stream",
     "text": [
      "Tuple Items =  (20, 40, 65, 75, 80, 220)\n",
      "\n",
      "The Sum of Tuple Items =  500\n"
     ]
    }
   ],
   "source": [
    "Tuple = (20, 40, 65, 75, 80, 220)\n",
    "print(\"Tuple Items = \", Tuple)\n",
    "\n",
    "Sum = sum(Tuple)\n",
    "print(\"\\nThe Sum of Tuple Items = \", Sum)"
   ]
  },
  {
   "cell_type": "markdown",
   "id": "8fdb0cc9",
   "metadata": {},
   "source": [
    "# Control Structure\n"
   ]
  },
  {
   "cell_type": "markdown",
   "id": "d457995e",
   "metadata": {},
   "source": [
    "1. Write a python program to find the first N Prime no:"
   ]
  },
  {
   "cell_type": "code",
   "execution_count": 22,
   "id": "bbb3ad99",
   "metadata": {},
   "outputs": [
    {
     "name": "stdout",
     "output_type": "stream",
     "text": [
      "Enter N:15\n",
      "First 15 Prime numbers are:2 3 5 7 11 13 17 19 23 29 31 37 41 43 47\n"
     ]
    }
   ],
   "source": [
    "def Prime(n):  \n",
    "    for i in range(2,n//2+1):  \n",
    "        if(n%i==0):  \n",
    "            return(0)  \n",
    "    return(1)  \n",
    "  \n",
    "N=int(input(\"Enter N:\"))  \n",
    "i=2 \n",
    "lst=[] \n",
    "while(1):  \n",
    "    if(Prime(i)):  \n",
    "        lst.append(i) \n",
    "        if(len(lst)==N): \n",
    "            break \n",
    "    i+=1 \n",
    "print(\"First \"+str(N)+\" Prime numbers are:\",end=\"\") \n",
    "print(*lst) "
   ]
  },
  {
   "cell_type": "markdown",
   "id": "1d0bda72",
   "metadata": {},
   "source": [
    "3. Write a python program to search for a stringh in the given list"
   ]
  },
  {
   "cell_type": "code",
   "execution_count": 23,
   "id": "4a60c68e",
   "metadata": {},
   "outputs": [
    {
     "name": "stdout",
     "output_type": "stream",
     "text": [
      "car is present in the list\n"
     ]
    }
   ],
   "source": [
    "l = [1, 2.0, 'i', 'a', 'car',]\n",
    "\n",
    "s = 'car' \n",
    " \n",
    "if s in l:\n",
    "    print(f'{s} is present in the list')\n",
    "else:\n",
    "    print(f'{s} is not present in the list')"
   ]
  },
  {
   "cell_type": "code",
   "execution_count": null,
   "id": "a990864c",
   "metadata": {},
   "outputs": [],
   "source": []
  }
 ],
 "metadata": {
  "kernelspec": {
   "display_name": "Python 3 (ipykernel)",
   "language": "python",
   "name": "python3"
  },
  "language_info": {
   "codemirror_mode": {
    "name": "ipython",
    "version": 3
   },
   "file_extension": ".py",
   "mimetype": "text/x-python",
   "name": "python",
   "nbconvert_exporter": "python",
   "pygments_lexer": "ipython3",
   "version": "3.11.4"
  }
 },
 "nbformat": 4,
 "nbformat_minor": 5
}
