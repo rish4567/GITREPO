{
 "cells": [
  {
   "cell_type": "code",
   "execution_count": 2,
   "id": "583a41f7",
   "metadata": {},
   "outputs": [
    {
     "data": {
      "text/html": [
       "<div>\n",
       "<style scoped>\n",
       "    .dataframe tbody tr th:only-of-type {\n",
       "        vertical-align: middle;\n",
       "    }\n",
       "\n",
       "    .dataframe tbody tr th {\n",
       "        vertical-align: top;\n",
       "    }\n",
       "\n",
       "    .dataframe thead th {\n",
       "        text-align: right;\n",
       "    }\n",
       "</style>\n",
       "<table border=\"1\" class=\"dataframe\">\n",
       "  <thead>\n",
       "    <tr style=\"text-align: right;\">\n",
       "      <th></th>\n",
       "      <th>title</th>\n",
       "      <th>year</th>\n",
       "    </tr>\n",
       "  </thead>\n",
       "  <tbody>\n",
       "    <tr>\n",
       "      <th>0</th>\n",
       "      <td>Tasveer Mere Sanam</td>\n",
       "      <td>1996</td>\n",
       "    </tr>\n",
       "    <tr>\n",
       "      <th>1</th>\n",
       "      <td>Only You</td>\n",
       "      <td>1994</td>\n",
       "    </tr>\n",
       "    <tr>\n",
       "      <th>2</th>\n",
       "      <td>El pueblo del terror</td>\n",
       "      <td>1970</td>\n",
       "    </tr>\n",
       "    <tr>\n",
       "      <th>3</th>\n",
       "      <td>Machine</td>\n",
       "      <td>2007</td>\n",
       "    </tr>\n",
       "    <tr>\n",
       "      <th>4</th>\n",
       "      <td>MARy</td>\n",
       "      <td>2008</td>\n",
       "    </tr>\n",
       "  </tbody>\n",
       "</table>\n",
       "</div>"
      ],
      "text/plain": [
       "                  title  year\n",
       "0    Tasveer Mere Sanam  1996\n",
       "1              Only You  1994\n",
       "2  El pueblo del terror  1970\n",
       "3               Machine  2007\n",
       "4                  MARy  2008"
      ]
     },
     "execution_count": 2,
     "metadata": {},
     "output_type": "execute_result"
    }
   ],
   "source": [
    "%matplotlib inline\n",
    "import pandas as pd\n",
    "from IPython.core.display import HTML\n",
    "css=open('style-table.css').read() + open('style-notebook.css').read()\n",
    "HTML('<style>()</style>'.format(css))\n",
    "titles=pd.read_csv('titles.csv', index_col=None)\n",
    "titles.head()"
   ]
  },
  {
   "cell_type": "code",
   "execution_count": 3,
   "id": "1fb79a90",
   "metadata": {},
   "outputs": [
    {
     "data": {
      "text/html": [
       "<div>\n",
       "<style scoped>\n",
       "    .dataframe tbody tr th:only-of-type {\n",
       "        vertical-align: middle;\n",
       "    }\n",
       "\n",
       "    .dataframe tbody tr th {\n",
       "        vertical-align: top;\n",
       "    }\n",
       "\n",
       "    .dataframe thead th {\n",
       "        text-align: right;\n",
       "    }\n",
       "</style>\n",
       "<table border=\"1\" class=\"dataframe\">\n",
       "  <thead>\n",
       "    <tr style=\"text-align: right;\">\n",
       "      <th></th>\n",
       "      <th>title</th>\n",
       "      <th>year</th>\n",
       "      <th>name</th>\n",
       "      <th>type</th>\n",
       "      <th>character</th>\n",
       "      <th>n</th>\n",
       "    </tr>\n",
       "  </thead>\n",
       "  <tbody>\n",
       "    <tr>\n",
       "      <th>0</th>\n",
       "      <td>Closet Monster</td>\n",
       "      <td>2015</td>\n",
       "      <td>Buffy #1</td>\n",
       "      <td>actor</td>\n",
       "      <td>Buffy 4</td>\n",
       "      <td>31.0</td>\n",
       "    </tr>\n",
       "    <tr>\n",
       "      <th>1</th>\n",
       "      <td>Suuri illusioni</td>\n",
       "      <td>1985</td>\n",
       "      <td>Homo $</td>\n",
       "      <td>actor</td>\n",
       "      <td>Guests</td>\n",
       "      <td>22.0</td>\n",
       "    </tr>\n",
       "    <tr>\n",
       "      <th>2</th>\n",
       "      <td>Battle of the Sexes</td>\n",
       "      <td>2017</td>\n",
       "      <td>$hutter</td>\n",
       "      <td>actor</td>\n",
       "      <td>Bobby Riggs Fan</td>\n",
       "      <td>10.0</td>\n",
       "    </tr>\n",
       "    <tr>\n",
       "      <th>3</th>\n",
       "      <td>Secret in Their Eyes</td>\n",
       "      <td>2015</td>\n",
       "      <td>$hutter</td>\n",
       "      <td>actor</td>\n",
       "      <td>2002 Dodger Fan</td>\n",
       "      <td>NaN</td>\n",
       "    </tr>\n",
       "    <tr>\n",
       "      <th>4</th>\n",
       "      <td>Steve Jobs</td>\n",
       "      <td>2015</td>\n",
       "      <td>$hutter</td>\n",
       "      <td>actor</td>\n",
       "      <td>1988 Opera House Patron</td>\n",
       "      <td>NaN</td>\n",
       "    </tr>\n",
       "  </tbody>\n",
       "</table>\n",
       "</div>"
      ],
      "text/plain": [
       "                  title  year      name   type                character     n\n",
       "0        Closet Monster  2015  Buffy #1  actor                  Buffy 4  31.0\n",
       "1       Suuri illusioni  1985    Homo $  actor                   Guests  22.0\n",
       "2   Battle of the Sexes  2017   $hutter  actor          Bobby Riggs Fan  10.0\n",
       "3  Secret in Their Eyes  2015   $hutter  actor          2002 Dodger Fan   NaN\n",
       "4            Steve Jobs  2015   $hutter  actor  1988 Opera House Patron   NaN"
      ]
     },
     "execution_count": 3,
     "metadata": {},
     "output_type": "execute_result"
    }
   ],
   "source": [
    "cast = pd.read_csv('cast.csv', index_col=None)\n",
    "cast.head()"
   ]
  },
  {
   "cell_type": "markdown",
   "id": "4cd1f61d",
   "metadata": {},
   "source": [
    "# Using groupby(), plot the number of films that have been released each decade in the history of cinema."
   ]
  },
  {
   "cell_type": "code",
   "execution_count": 4,
   "id": "bebf4ce9",
   "metadata": {},
   "outputs": [
    {
     "data": {
      "image/png": "[encoded data removed]",
      "text/plain": [
       "<Figure size 1000x600 with 1 Axes>"
      ]
     },
     "metadata": {},
     "output_type": "display_data"
    }
   ],
   "source": [
    "import pandas as pd\n",
    "import matplotlib.pyplot as plt\n",
    "\n",
    "# Load the 'titles' DataFrame\n",
    "titles = pd.read_csv('titles.csv', index_col=None)\n",
    "\n",
    "# Extract the decade from the 'year' column\n",
    "titles['decade'] = (titles['year'] // 10) * 10\n",
    "\n",
    "# Group the titles by decade and count the number of films in each decade\n",
    "film_count_by_decade = titles.groupby('decade').size()\n",
    "\n",
    "# Plot the results\n",
    "film_count_by_decade.plot(kind='bar', figsize=(10, 6))\n",
    "plt.xlabel('Decade')\n",
    "plt.ylabel('Number of Films')\n",
    "plt.title('Number of Films Released Each Decade')\n",
    "plt.show()"
   ]
  },
  {
   "cell_type": "markdown",
   "id": "1dc8e569",
   "metadata": {},
   "source": [
    "# Use groupby() to plot the number of \"Hamlet\" films made each decade."
   ]
  },
  {
   "cell_type": "code",
   "execution_count": 5,
   "id": "fa285d6f",
   "metadata": {},
   "outputs": [
    {
     "name": "stderr",
     "output_type": "stream",
     "text": [
      "C:\\Users\\Rishabh\\AppData\\Local\\Temp\\ipykernel_18324\\34000047.py:5: SettingWithCopyWarning: \n",
      "A value is trying to be set on a copy of a slice from a DataFrame.\n",
      "Try using .loc[row_indexer,col_indexer] = value instead\n",
      "\n",
      "See the caveats in the documentation: https://pandas.pydata.org/pandas-docs/stable/user_guide/indexing.html#returning-a-view-versus-a-copy\n",
      "  hamlet_films['decade'] = (hamlet_films['year'] // 10) * 10\n"
     ]
    },
    {
     "data": {
      "image/png": "[encoded data removed]",
      "text/plain": [
       "<Figure size 1000x600 with 1 Axes>"
      ]
     },
     "metadata": {},
     "output_type": "display_data"
    }
   ],
   "source": [
    "# Filter the 'titles' DataFrame for \"Hamlet\" films\n",
    "hamlet_films = titles[titles['title'] == 'Hamlet']\n",
    "\n",
    "# Extract the decade from the 'year' column\n",
    "hamlet_films['decade'] = (hamlet_films['year'] // 10) * 10\n",
    "\n",
    "# Group the \"Hamlet\" films by decade and count the number of films in each decade\n",
    "hamlet_count_by_decade = hamlet_films.groupby('decade').size()\n",
    "\n",
    "# Plot the results\n",
    "hamlet_count_by_decade.plot(kind='bar', figsize=(10, 6))\n",
    "plt.xlabel('Decade')\n",
    "plt.ylabel('Number of \"Hamlet\" Films')\n",
    "plt.title('Number of \"Hamlet\" Films Made Each Decade')\n",
    "plt.show()"
   ]
  },
  {
   "cell_type": "markdown",
   "id": "0b760c9d",
   "metadata": {},
   "source": [
    "# How many leading (n=1) roles were available to actors, and how many to actresses, in each year of the 1950s?"
   ]
  },
  {
   "cell_type": "code",
   "execution_count": 7,
   "id": "825c7039",
   "metadata": {},
   "outputs": [
    {
     "name": "stdout",
     "output_type": "stream",
     "text": [
      "year  type   \n",
      "1950  actor      625\n",
      "      actress    288\n",
      "1951  actor      651\n",
      "      actress    285\n",
      "1952  actor      613\n",
      "      actress    304\n",
      "1953  actor      664\n",
      "      actress    312\n",
      "1954  actor      636\n",
      "      actress    316\n",
      "1955  actor      648\n",
      "      actress    285\n",
      "1956  actor      668\n",
      "      actress    307\n",
      "1957  actor      739\n",
      "      actress    315\n",
      "1958  actor      715\n",
      "      actress    301\n",
      "1959  actor      733\n",
      "      actress    327\n",
      "dtype: int64\n"
     ]
    }
   ],
   "source": [
    "# Filter the 'cast' DataFrame for roles in the 1950s\n",
    "roles_1950s = cast[(cast['year'] >= 1950) & (cast['year'] <= 1959)]\n",
    "\n",
    "# Group the roles by year and type (actor/actress), and count the number of leading roles (n=1)\n",
    "leading_role_count = roles_1950s[roles_1950s['n'] == 1].groupby(['year', 'type']).size()\n",
    "\n",
    "# Print the result\n",
    "print(leading_role_count)"
   ]
  },
  {
   "cell_type": "markdown",
   "id": "d5b63485",
   "metadata": {},
   "source": [
    "# In the 1950s decade taken as a whole, how many total roles were available to actors, and how many to actresses, for each \"n\" number 1 through 5?"
   ]
  },
  {
   "cell_type": "code",
   "execution_count": 8,
   "id": "1d2583fd",
   "metadata": {},
   "outputs": [
    {
     "name": "stdout",
     "output_type": "stream",
     "text": [
      "type     n    \n",
      "actor    1.0      6692\n",
      "         2.0      4640\n",
      "         3.0      5654\n",
      "         4.0      5663\n",
      "         5.0      5674\n",
      "                  ... \n",
      "actress  162.0       1\n",
      "         163.0       1\n",
      "         164.0       1\n",
      "         418.0       1\n",
      "         788.0       1\n",
      "Length: 260, dtype: int64\n"
     ]
    }
   ],
   "source": [
    "# Filter the 'cast' DataFrame for roles in the 1950s\n",
    "roles_1950s = cast[(cast['year'] >= 1950) & (cast['year'] <= 1959)]\n",
    "\n",
    "# Group the roles by type (actor/actress) and \"n\" number, and count the number of roles\n",
    "role_count_by_n = roles_1950s.groupby(['type', 'n']).size()\n",
    "\n",
    "# Print the result\n",
    "print(role_count_by_n)"
   ]
  },
  {
   "cell_type": "markdown",
   "id": "09bc5885",
   "metadata": {},
   "source": [
    "# Use groupby() to determine how many roles are listed for each of the Pink Panther movies"
   ]
  },
  {
   "cell_type": "code",
   "execution_count": 9,
   "id": "21da28b7",
   "metadata": {},
   "outputs": [
    {
     "name": "stdout",
     "output_type": "stream",
     "text": [
      "title\n",
      "Curse of the Pink Panther          67\n",
      "Revenge of the Pink Panther        68\n",
      "Son of the Pink Panther            46\n",
      "The Pink Panther                  111\n",
      "The Pink Panther 2                 84\n",
      "The Pink Panther Strikes Again     70\n",
      "The Return of the Pink Panther     30\n",
      "Trail of the Pink Panther          41\n",
      "dtype: int64\n"
     ]
    }
   ],
   "source": [
    "# Filter the 'cast' DataFrame for Pink Panther movies\n",
    "pink_panther_roles = cast[cast['title'].str.contains('Pink Panther')]\n",
    "\n",
    "# Group the roles by movie title and count the number of roles\n",
    "role_count_by_movie = pink_panther_roles.groupby('title').size()\n",
    "\n",
    "# Print the result\n",
    "print(role_count_by_movie)"
   ]
  },
  {
   "cell_type": "markdown",
   "id": "54bbc7ff",
   "metadata": {},
   "source": [
    "# List, in order by year, each of the films in which Frank Oz has played"
   ]
  },
  {
   "cell_type": "code",
   "execution_count": 10,
   "id": "4d206f9f",
   "metadata": {},
   "outputs": [
    {
     "name": "stdout",
     "output_type": "stream",
     "text": [
      "title\n",
      "An American Werewolf in London          2\n",
      "The Dark Crystal                        2\n",
      "Follow That Bird                        3\n",
      "The Adventures of Elmo in Grouchland    3\n",
      "Muppet Treasure Island                  4\n",
      "Muppets from Space                      4\n",
      "The Great Muppet Caper                  6\n",
      "The Muppet Christmas Carol              7\n",
      "The Muppets Take Manhattan              7\n",
      "The Muppet Movie                        8\n",
      "dtype: int64\n"
     ]
    }
   ],
   "source": [
    "# Filter the 'cast' DataFrame for roles played by Frank Oz\n",
    "frank_oz_roles = cast[cast['name'] == 'Frank Oz']\n",
    "\n",
    "# Group the roles by movie title and count the number of roles played by Frank Oz in each movie\n",
    "frank_oz_role_count_by_movie = frank_oz_roles.groupby('title').size()\n",
    "\n",
    "# Filter movies where Frank Oz played more than 1 role\n",
    "movies_with_multiple_roles = frank_oz_role_count_by_movie[frank_oz_role_count_by_movie > 1]\n",
    "\n",
    "# Print the result, ordered by year\n",
    "print(movies_with_multiple_roles.sort_values(ascending=True))"
   ]
  },
  {
   "cell_type": "markdown",
   "id": "5807f34f",
   "metadata": {},
   "source": [
    "# List each of the characters that Frank Oz has portrayed at least twice."
   ]
  },
  {
   "cell_type": "code",
   "execution_count": 11,
   "id": "af0e4e8c",
   "metadata": {},
   "outputs": [
    {
     "name": "stdout",
     "output_type": "stream",
     "text": [
      "character\n",
      "Animal            6\n",
      "Bert              3\n",
      "Cookie Monster    5\n",
      "Fozzie Bear       4\n",
      "Grover            2\n",
      "Miss Piggy        6\n",
      "Sam the Eagle     5\n",
      "Yoda              6\n",
      "dtype: int64\n"
     ]
    }
   ],
   "source": [
    "# Filter the 'cast' DataFrame for roles played by Frank Oz\n",
    "frank_oz_roles = cast[cast['name'] == 'Frank Oz']\n",
    "\n",
    "# Group the roles by character name and count the number of times each character was portrayed by Frank Oz\n",
    "character_count = frank_oz_roles.groupby('character').size()\n",
    "\n",
    "# Filter characters with at least two portrayals\n",
    "characters_with_multiple_portrayals = character_count[character_count >= 2]\n",
    "\n",
    "# Print the result\n",
    "print(characters_with_multiple_portrayals)"
   ]
  }
 ],
 "metadata": {
  "kernelspec": {
   "display_name": "Python 3 (ipykernel)",
   "language": "python",
   "name": "python3"
  },
  "language_info": {
   "codemirror_mode": {
    "name": "ipython",
    "version": 3
   },
   "file_extension": ".py",
   "mimetype": "text/x-python",
   "name": "python",
   "nbconvert_exporter": "python",
   "pygments_lexer": "ipython3",
   "version": "3.11.4"
  }
 },
 "nbformat": 4,
 "nbformat_minor": 5
}
