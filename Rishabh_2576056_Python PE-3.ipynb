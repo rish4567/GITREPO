{
 "cells": [
  {
   "cell_type": "markdown",
   "id": "ba77d7ed",
   "metadata": {},
   "source": [
    "# 1 Write a python program with Exception handling to input marks for five subjects Physics. Chemistry, Biology, Mathematics, and Computer. Calculate the percentage and grade according to the following\n",
    "\n",
    " \n",
    "\n",
    "i)Percentage>=90% Grade A\n",
    "\n",
    " \n",
    "\n",
    "ii)Percentage>=80%-Grade B\n",
    "\n",
    " \n",
    "\n",
    "iii)Percentage>= 70% Grade C\n",
    "\n",
    " \n",
    "\n",
    "iv)Percentage>= 60% Grade D\n",
    "\n",
    " \n",
    "\n",
    "v)Percentage>= 40% Grade E\n",
    "\n",
    " \n",
    "\n",
    "vi)Percentage< 40% Grade F"
   ]
  },
  {
   "cell_type": "code",
   "execution_count": 2,
   "id": "8e1d8f24",
   "metadata": {},
   "outputs": [
    {
     "name": "stdout",
     "output_type": "stream",
     "text": [
      "Enter Physics marks: 90\n",
      "Enter Chemistry marks: 89\n",
      "Enter Biology marks: 78\n",
      "Enter Mathematics marks: 92\n",
      "Enter Computer marks: 94\n",
      "Percentage: 88.6%\n",
      "Grade: B\n"
     ]
    }
   ],
   "source": [
    "try:\n",
    "   \n",
    "   physics = float(input(\"Enter Physics marks: \"))\n",
    "   chemistry = float(input(\"Enter Chemistry marks: \"))\n",
    "   biology = float(input(\"Enter Biology marks: \"))\n",
    "   mathematics = float(input(\"Enter Mathematics marks: \"))\n",
    "   computer = float(input(\"Enter Computer marks: \"))\n",
    "\n",
    "\n",
    "   total_marks = physics + chemistry + biology + mathematics + computer\n",
    "   percentage = (total_marks / 500) * 100\n",
    "\n",
    " \n",
    "   if percentage >= 90:\n",
    "       grade = 'A'\n",
    "   elif percentage >= 80:\n",
    "       grade = 'B'\n",
    "   elif percentage >= 70:\n",
    "       grade = 'C'\n",
    "   elif percentage >= 60:\n",
    "       grade = 'D'\n",
    "   elif percentage >= 40:\n",
    "       grade = 'E'\n",
    "   else:\n",
    "       grade = 'F'\n",
    "\n",
    "  \n",
    "   print(f\"Percentage: {percentage}%\")\n",
    "   print(f\"Grade: {grade}\")\n",
    "\n",
    "except ValueError:\n",
    "   print(\"Invalid input. Please enter numeric marks for each subject.\")\n",
    "except Exception as e:\n",
    "   print(f\"An error occurred: {str(e)}\")\n"
   ]
  },
  {
   "cell_type": "markdown",
   "id": "c7899871",
   "metadata": {},
   "source": [
    "# 2. Write a python program with Exception handling to input electricity unit charges and calculate the total electricity bill according to the given condition\n",
    "\n",
    " \n",
    "\n",
    "i)For the first 50 units Rs. 0.50/unit\n",
    "\n",
    " \n",
    "\n",
    "ii)For the next 100 units. 0.75/uni\n",
    "\n",
    " \n",
    "\n",
    "iii)for the nest 100 units Rs. 120/unit\n",
    "\n",
    " \n",
    "\n",
    "iv)For units above 250 Rs. 150/unt\n",
    "\n",
    " \n",
    "\n",
    "v)An additional surcharge of 20% is added to the bit"
   ]
  },
  {
   "cell_type": "code",
   "execution_count": 4,
   "id": "5d67531c",
   "metadata": {},
   "outputs": [
    {
     "name": "stdout",
     "output_type": "stream",
     "text": [
      "Enter the electricity unit charges: 8\n",
      "Total electricity bill with 20% surcharge: Rs 4.80\n"
     ]
    }
   ],
   "source": [
    "try:\n",
    "    \n",
    "   units = float(input(\"Enter the electricity unit charges: \"))\n",
    "\n",
    "  \n",
    "   bill = 0.0\n",
    "   surcharge = 0.20  \n",
    "\n",
    "   if units <= 50:\n",
    "       bill = units * 0.50\n",
    "   elif units <= 150:\n",
    "       bill = 50 * 0.50 + (units - 50) * 0.75\n",
    "   elif units <= 250:\n",
    "       bill = 50 * 0.50 + 100 * 0.75 + (units - 150) * 1.20\n",
    "   else:\n",
    "       bill = 50 * 0.50 + 100 * 0.75 + 100 * 1.20 + (units - 250) * 1.50\n",
    "\n",
    "   \n",
    "   total_bill = bill + (bill * surcharge)\n",
    "\n",
    "   print(f\"Total electricity bill with 20% surcharge: Rs {total_bill:.2f}\")\n",
    "\n",
    "except ValueError:\n",
    "   print(\"Invalid input. Please enter a valid number of units.\")\n",
    "except Exception as e:\n",
    "   print(f\"An error occurred: {e}\")"
   ]
  },
  {
   "cell_type": "markdown",
   "id": "ba8fff36",
   "metadata": {},
   "source": [
    "# 3. Write a python program with Exception handling to input the week number and print the weekday"
   ]
  },
  {
   "cell_type": "code",
   "execution_count": 5,
   "id": "2ab814f8",
   "metadata": {},
   "outputs": [
    {
     "name": "stdout",
     "output_type": "stream",
     "text": [
      "Enter the week number (1-7): 5\n",
      "Weekday 5 is Friday\n"
     ]
    }
   ],
   "source": [
    "try:\n",
    "   # Input the week number\n",
    "   week_number = int(input(\"Enter the week number (1-7): \"))\n",
    "\n",
    "   # Define a list of weekdays\n",
    "   weekdays = [\"Monday\", \"Tuesday\", \"Wednesday\", \"Thursday\", \"Friday\", \"Saturday\", \"Sunday\"]\n",
    "\n",
    "   \n",
    "   if 1 <= week_number <= 7:\n",
    "       \n",
    "       print(f\"Weekday {week_number} is {weekdays[week_number - 1]}\")\n",
    "   else:\n",
    "       print(\"Invalid week number. Please enter a number between 1 and 7.\")\n",
    "\n",
    "except ValueError:\n",
    "   print(\"Invalid input. Please enter a valid number.\")\n",
    "except Exception as e:\n",
    "   print(f\"An error occurred: {e}\")"
   ]
  },
  {
   "cell_type": "markdown",
   "id": "89f040d8",
   "metadata": {},
   "source": [
    "# 4. Write a Python program to implement word count using command line arguments.\n",
    "\n",
    " \n",
    "\n",
    "i)Create a text document \"apple.txt\" whch contains text for wordcount\n",
    "\n",
    "ii)Create a wordcount program which calls the \"apple.txt\" document by opening the file. \n",
    "\n",
    "iii) If the word is present again in the \"aple.txt\" the wordcount is incremented by 1 until all the words are counted in the document. \n",
    "\n",
    "iv) Close the file\n",
    "\n",
    "v)Create a command.py program which imports the wordcount.py program. \n",
    "\n",
    "vi) Count the number of words using command line arguments\n",
    "\n",
    "vii) Print each word and its count"
   ]
  },
  {
   "cell_type": "code",
   "execution_count": 6,
   "id": "36a06b23",
   "metadata": {},
   "outputs": [
    {
     "name": "stdout",
     "output_type": "stream",
     "text": [
      "Usage: python wordcount.py <filename>\n"
     ]
    }
   ],
   "source": [
    "# wordcount.py\n",
    "\n",
    "def count_words(filename):\n",
    "   try:\n",
    "       with open(filename, 'r') as file:\n",
    "           word_count = {}\n",
    "           for line in file:\n",
    "               words = line.split()\n",
    "               for word in words:\n",
    "                   word = word.lower()  # Convert to lowercase to ensure case-insensitivity\n",
    "                   if word in word_count:\n",
    "                       word_count[word] += 1\n",
    "                   else:\n",
    "                       word_count[word] = 1\n",
    "           return word_count\n",
    "   except FileNotFoundError:\n",
    "       print(f\"File '{filename}' not found.\")\n",
    "       return {}\n",
    "\n",
    "if __name__ == \"__main__\":5\n",
    "   if len(sys.argv) != 2:\n",
    "       print(\"Usage: python wordcount.py <filename>\")\n",
    "   else:\n",
    "       filename = sys.argv[1]\n",
    "       word_count = count_words(filename)\n",
    "       for word, count in word_count.items():\n",
    "           print(f\"{word}: {count}\")"
   ]
  },
  {
   "cell_type": "code",
   "execution_count": 12,
   "id": "ba8a3d02",
   "metadata": {},
   "outputs": [],
   "source": [
    "# wordcount.py\n",
    "\n",
    "def count_words(filename):\n",
    "   word_count = {}\n",
    "\n",
    "   with open(filename, 'r') as file:\n",
    "       text = file.read()\n",
    "       words = text.split()\n",
    "\n",
    "       for word in words:\n",
    "           word = word.lower()  # Convert to lowercase for case-insensitive counting\n",
    "           if word in word_count:\n",
    "               word_count[word] += 1\n",
    "           else:\n",
    "               word_count[word] = 1\n",
    "\n",
    "   return word_count"
   ]
  },
  {
   "cell_type": "markdown",
   "id": "5329d905",
   "metadata": {},
   "source": [
    "# 5. Write a Python program for finding the most frequent words in a text read from a file\n",
    "i) Initially open the text file in read mode.\n",
    "\n",
    "\n",
    "ii) Make all the letters in the document into lowercase letters and split the words in each line.\n",
    "\n",
    "\n",
    "iii) Get the words in an order. iv) Sort the words for finding the most frequent words in the file."
   ]
  },
  {
   "cell_type": "code",
   "execution_count": 11,
   "id": "54c7ffb9",
   "metadata": {},
   "outputs": [
    {
     "name": "stdout",
     "output_type": "stream",
     "text": [
      "67: 2\n",
      "89: 2\n",
      "56: 1\n",
      "100: 1\n",
      "120: 1\n"
     ]
    }
   ],
   "source": [
    "from collections import Counter\n",
    "\n",
    "\n",
    "file_name = \"your_text_file.txt\" \n",
    "with open(file_name, \"r\") as file:\n",
    "   \n",
    "   words = file.read().lower().split()\n",
    "\n",
    "\n",
    "word_order = []\n",
    "word_counts = {}\n",
    "for word in words:\n",
    "   if word not in word_counts:\n",
    "       word_order.append(word)\n",
    "   word_counts[word] = word_counts.get(word, 0) + 1\n",
    "\n",
    "sorted_words = sorted(word_order, key=lambda word: word_counts[word], reverse=True)\n",
    "\n",
    "\n",
    "num_most_common = 10 \n",
    "for word in sorted_words[:num_most_common]:\n",
    "   print(f\"{word}: {word_counts[word]}\")"
   ]
  },
  {
   "cell_type": "markdown",
   "id": "4ab80017",
   "metadata": {},
   "source": [
    "# 6. File Processing with Command-Line Arguments- Scenario: You are developing a command-line utility that processes text files. Users can specify input and output file paths as command-line arguments. Your program should handle exceptions gracefully.\n",
    "\n",
    "\n",
    "i.Design a Python program that takes two command-line arguments: the input file path and the output file path. Ensure that the program checks if both arguments are provided and that the input file exists.\n",
    "\n",
    "\n",
    "ii. Implement error handling to deal with scenarios such as missing input files, invalid file paths, or permission issues when writing to the output file.\n",
    "\n",
    "\n",
    "iii. If an error occurs during file processing, display a user-friendly error message, and exit the program with a non-zero exit code.\n",
    "\n",
    "\n",
    "iv. Write test cases that cover various scenarios, including providing valid and invalid file paths as command-line arguments.\n",
    "\n"
   ]
  },
  {
   "cell_type": "code",
   "execution_count": null,
   "id": "aa89f367",
   "metadata": {},
   "outputs": [],
   "source": [
    "import sys\n",
    "import os\n",
    "\n",
    "def process_files(input_file_path, output_file_path):\n",
    "   try:\n",
    "      \n",
    "       if not input_file_path or not output_file_path:\n",
    "           raise ValueError(\"Both input and output file paths must be provided.\")\n",
    "\n",
    "       \n",
    "       if not os.path.isfile(input_file_path):\n",
    "           raise FileNotFoundError(f\"Input file '{input_file_path}' not found.\")\n",
    "\n",
    "      \n",
    "       with open(input_file_path, 'r') as input_file:\n",
    "           data = input_file.read()\n",
    "\n",
    "  \n",
    "       processed_data = data.upper()  \n",
    "\n",
    "      \n",
    "       with open(output_file_path, 'w') as output_file:\n",
    "           output_file.write(processed_data)\n",
    "\n",
    "   except FileNotFoundError as e:\n",
    "       print(f\"Error: {e}\")\n",
    "       sys.exit(1)\n",
    "   except PermissionError as e:\n",
    "       print(f\"Error: Permission denied while writing to '{output_file_path}'.\")\n",
    "       sys.exit(1)\n",
    "   except Exception as e:\n",
    "       print(f\"An error occurred: {e}\")\n",
    "       sys.exit(1)\n",
    "\n",
    "if __name__ == \"__main__\":\n",
    "   if len(sys.argv) != 3:\n",
    "       print(\"Usage: python program.py <input_file_path> <output_file_path>\")\n",
    "       sys.exit(1)\n",
    "\n",
    "   input_file_path = sys.argv[1]\n",
    "   output_file_path = sys.argv[2]\n",
    "\n",
    "   process_files(input_file_path, output_file_path)\n"
   ]
  },
  {
   "cell_type": "code",
   "execution_count": null,
   "id": "f12c9a25",
   "metadata": {},
   "outputs": [],
   "source": []
  }
 ],
 "metadata": {
  "kernelspec": {
   "display_name": "Python 3 (ipykernel)",
   "language": "python",
   "name": "python3"
  },
  "language_info": {
   "codemirror_mode": {
    "name": "ipython",
    "version": 3
   },
   "file_extension": ".py",
   "mimetype": "text/x-python",
   "name": "python",
   "nbconvert_exporter": "python",
   "pygments_lexer": "ipython3",
   "version": "3.11.4"
  }
 },
 "nbformat": 4,
 "nbformat_minor": 5
}
